{
 "cells": [
  {
   "cell_type": "markdown",
   "metadata": {
    "toc": true
   },
   "source": [
    "<h1>Table of Contents<span class=\"tocSkip\"></span></h1>\n",
    "<div class=\"toc\"><ul class=\"toc-item\"><li><span><a href=\"#image-->-SDR-with-ChannelEncoder\" data-toc-modified-id=\"image-->-SDR-with-ChannelEncoder-1\"><span class=\"toc-item-num\">1&nbsp;&nbsp;</span>image -&gt; SDR with ChannelEncoder</a></span><ul class=\"toc-item\"><li><span><a href=\"#sim\" data-toc-modified-id=\"sim-1.1\"><span class=\"toc-item-num\">1.1&nbsp;&nbsp;</span>sim</a></span></li><li><span><a href=\"#existing-image_encoders\" data-toc-modified-id=\"existing-image_encoders-1.2\"><span class=\"toc-item-num\">1.2&nbsp;&nbsp;</span>existing image_encoders</a></span></li><li><span><a href=\"#sparsity-&amp;-color-channels:\" data-toc-modified-id=\"sparsity-&amp;-color-channels:-1.3\"><span class=\"toc-item-num\">1.3&nbsp;&nbsp;</span>sparsity &amp; color channels:</a></span></li></ul></li></ul></div>"
   ]
  },
  {
   "cell_type": "code",
   "execution_count": null,
   "metadata": {},
   "outputs": [],
   "source": []
  },
  {
   "cell_type": "markdown",
   "metadata": {},
   "source": [
    "# image -> SDR with ChannelEncoder\n",
    "- how does the ChannelEncoder work?\n",
    "- assigns random range to each bit of output SDR\n",
    "    - each bit becomes active if corresponding input falls within its range\n",
    "    - random ranges: each bit represents a different thing\n",
    "        - even if it mostly overlaps with other comparable bits\n",
    "        - redundant bits add meaning\n",
    "- to encode SDRS:\n",
    "    - 1) every bit of info represents a range of possible values\n",
    "    - for every input, multiple bits activate in SDR\n",
    "- so: each output bit is inaccurate and redundant\n",
    "- ChannelEncoder makes every output bit receptive to unique (random) range of inputs,\n",
    "    - uniformly distributed throughout input space\n",
    "    - has more representational power than if many bits represented identical inp ranges\n",
    "## sim\n",
    "- semantic similarity is when 2 similar inputs have similar SDRs\n",
    "    - channelEnc sem_sim:\n",
    "        - SDR bits respond to range of inp vals\n",
    "        - topology allows nearby bits to represent similar things\n",
    "        \n",
    "## existing image_encoders\n",
    "- many use thresholds on real pixel_value input data -> convert output into Boolean\n",
    "    - (MNIST assigning np.avg>X to enc.dense)\n",
    "- this encoder uses 2 thresholds to form ranges, referred to as \"bins\"\n",
    "    - small change in inp_val could cause some outputs to change\n",
    "    - large change in inp_val could cause all outputs to change\n",
    "    - output_bit_sensitivity (semantic similarity) determined by bin sizes\n",
    "- bin_sizes determined by sparsity:\n",
    "    - assuming inputs distributed in uniform random way throughout input range\n",
    "    - bin_size determines probability that input value falls inside of bin (bigger bucket, more raindrops)\n",
    "        - so sparsity is related to size of bins = sparsity related to amount_semantic_similarity\n",
    "        - this holds true for all bin-based encoders that convert numbers into binary bits\n",
    "- ChannelEnc relies on topology in input image:\n",
    "    - \"adjacent pixels in input are likely to show the same thing\"\n",
    "    - if area of output SDR can't represent a color b/c did not generate the bins necessary\n",
    "    - then it might still be near a pixel which does represent the color\n",
    "    - if less than one active output bits per input pixel (smaller SDR_length than pixel_vector_length):\n",
    "        - multiple close-together output_bits can \"collaborate\" to represent input\n",
    "    - if output bit changes in response to small input change, some semantic_sim is lost\n",
    "    - topology allows nearby outputs to represent the same thing\n",
    "        - since each output uses random bins, they won't all change when input hits single threshold (power of randomly-determined bins)\n",
    "## sparsity & color channels:\n",
    "- to encode color imgs:\n",
    "    - create separate encoders for each color channel\n",
    "    - recombine output sdrs into single big SDR by... multiplying them together\n",
    "        - not concatenating\n",
    "    - multiplication = logical \"and\" here\n",
    "    - combined SDRs sparsity is different\n",
    "        -fraction of active_bits in combined SDR is product of fraction of bits active in all input SDRs\n",
    "        - encoder with 8bits/pixel and sparsity of 1/8:\n",
    "            - create 3 encoders with 8bits/pixel and sparsity of 1/2\n",
    "    \n",
    "    \n",
    "    "
   ]
  },
  {
   "cell_type": "code",
   "execution_count": null,
   "metadata": {},
   "outputs": [],
   "source": []
  },
  {
   "cell_type": "code",
   "execution_count": null,
   "metadata": {},
   "outputs": [],
   "source": []
  },
  {
   "cell_type": "code",
   "execution_count": null,
   "metadata": {},
   "outputs": [],
   "source": []
  },
  {
   "cell_type": "code",
   "execution_count": null,
   "metadata": {},
   "outputs": [],
   "source": []
  },
  {
   "cell_type": "code",
   "execution_count": null,
   "metadata": {},
   "outputs": [],
   "source": []
  },
  {
   "cell_type": "code",
   "execution_count": null,
   "metadata": {},
   "outputs": [],
   "source": []
  },
  {
   "cell_type": "code",
   "execution_count": null,
   "metadata": {},
   "outputs": [],
   "source": []
  },
  {
   "cell_type": "code",
   "execution_count": null,
   "metadata": {},
   "outputs": [],
   "source": []
  },
  {
   "cell_type": "code",
   "execution_count": null,
   "metadata": {},
   "outputs": [],
   "source": []
  },
  {
   "cell_type": "code",
   "execution_count": null,
   "metadata": {},
   "outputs": [],
   "source": []
  },
  {
   "cell_type": "code",
   "execution_count": null,
   "metadata": {},
   "outputs": [],
   "source": []
  },
  {
   "cell_type": "code",
   "execution_count": null,
   "metadata": {},
   "outputs": [],
   "source": []
  },
  {
   "cell_type": "code",
   "execution_count": null,
   "metadata": {},
   "outputs": [],
   "source": []
  },
  {
   "cell_type": "code",
   "execution_count": null,
   "metadata": {},
   "outputs": [],
   "source": []
  },
  {
   "cell_type": "code",
   "execution_count": null,
   "metadata": {},
   "outputs": [],
   "source": []
  },
  {
   "cell_type": "code",
   "execution_count": null,
   "metadata": {},
   "outputs": [],
   "source": []
  },
  {
   "cell_type": "code",
   "execution_count": null,
   "metadata": {},
   "outputs": [],
   "source": []
  },
  {
   "cell_type": "code",
   "execution_count": null,
   "metadata": {},
   "outputs": [],
   "source": []
  },
  {
   "cell_type": "code",
   "execution_count": null,
   "metadata": {},
   "outputs": [],
   "source": []
  },
  {
   "cell_type": "code",
   "execution_count": null,
   "metadata": {},
   "outputs": [],
   "source": []
  }
 ],
 "metadata": {
  "kernelspec": {
   "display_name": "Python 3",
   "language": "python",
   "name": "python3"
  },
  "language_info": {
   "codemirror_mode": {
    "name": "ipython",
    "version": 3
   },
   "file_extension": ".py",
   "mimetype": "text/x-python",
   "name": "python",
   "nbconvert_exporter": "python",
   "pygments_lexer": "ipython3",
   "version": "3.7.4"
  },
  "toc": {
   "base_numbering": 1,
   "nav_menu": {},
   "number_sections": true,
   "sideBar": false,
   "skip_h1_title": false,
   "title_cell": "Table of Contents",
   "title_sidebar": "Contents",
   "toc_cell": true,
   "toc_position": {
    "height": "602.4px",
    "left": "1228.8px",
    "top": "53.6px",
    "width": "307.2px"
   },
   "toc_section_display": false,
   "toc_window_display": true
  }
 },
 "nbformat": 4,
 "nbformat_minor": 2
}
