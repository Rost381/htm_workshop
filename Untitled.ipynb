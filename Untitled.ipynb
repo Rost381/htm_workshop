{
 "cells": [
  {
   "cell_type": "markdown",
   "metadata": {
    "toc": true
   },
   "source": [
    "<h1>Table of Contents<span class=\"tocSkip\"></span></h1>\n",
    "<div class=\"toc\"><ul class=\"toc-item\"><li><span><a href=\"#other-data-ideas\" data-toc-modified-id=\"other-data-ideas-1\"><span class=\"toc-item-num\">1&nbsp;&nbsp;</span>other data ideas</a></span></li><li><span><a href=\"#hexagon-HTM-arrangements\" data-toc-modified-id=\"hexagon-HTM-arrangements-2\"><span class=\"toc-item-num\">2&nbsp;&nbsp;</span>hexagon HTM arrangements</a></span></li></ul></div>"
   ]
  },
  {
   "cell_type": "markdown",
   "metadata": {},
   "source": [
    "## other data ideas\n",
    "- EEG readings\n",
    "    - predict labels of some disease. accuracy depends on how good the encoder is, mainly\n",
    "- stock data for HFT analysis\n",
    "    - pattern recognition is really good for this sort of time-series\n",
    "        - use the gym power data as example"
   ]
  },
  {
   "cell_type": "markdown",
   "metadata": {},
   "source": [
    "## hexagon HTM arrangements\n",
    "- the guy who responded to my forum post mentioned his hexagonal arrangement model, sort of like an ensemble approach to HTM learning. it's a very interesting idea\n",
    "    - going off different neocortical regions having different characteristics - which makes a ton of sense, given how different regions handle different things - \n",
    "        - we may want to focus more on the horizontal interactions between columns"
   ]
  },
  {
   "cell_type": "markdown",
   "metadata": {},
   "source": [
    "- hexagonal input ? seems to solve the problem of interaction between adjacent columns\n",
    "- check out steve's reply to my forum post. what the hell are von economo neurons?\n",
    "    - they're spindle neurons. they have one apical axon and one dendrite. that's weird.\n",
    "        - instinct tells me that it means specialization: they have more specific, less vague connections\n",
    "    - this is sorta backed up by how they appear. we see them in dolphins, elephants, macaques etc"
   ]
  },
  {
   "cell_type": "markdown",
   "metadata": {},
   "source": [
    "- in humans, spindle neurons mostly appear in the two regions creating the \"salience network\"\n",
    "    - wiki:  communication, social behavior, and self-awareness through the integration of sensory, emotional, and cognitive information\n",
    "    - so yeah, they serve some sort of function for more higher-level, more abstract things.\n",
    "    - snakes don't need emotion or cognition, just stimuli responses. elephants and herd animals do."
   ]
  },
  {
   "cell_type": "markdown",
   "metadata": {},
   "source": [
    "- how would we add spindle cells to HTM?\n",
    "    - we could tweak how each neuron is attached to others, perhaps\n",
    "    - mimic the one-axon one-dendrite structure. perhaps add a bunch of spindles into an existing network (I don't imagine spindles replace normal ones in terms of density for complex regions)\n",
    "- ...would this have any benefit?\n",
    "    - capture \"specific\" relationships\n",
    "- guessing:\n",
    "    - emotional integration and cognition requires more complex things than just \"recognize pattern, create emotional/physical response\"\n",
    "        - you create... abstract associations. think of how certain songs will trigger an emotion, because you were listening to that song while having an emotional experience years ago\n",
    "            - maybe spindles are part of why this is so strong after time?\n",
    "                - an intense emotional experience fuses/creates a bunch of spindles from \"stimuli_emotional_relationship_breakup\" to \"stimuli_audio_music_iron&wine\", so the pathway triggers in reverse when i hear that damn song years later.\n",
    "        - why can't this sort of specificity be handled by regular neurons?\n",
    "        - or perhaps, why aren't more \"simple\" connections like \"snake recognizes mouse -> snake attack\" handled by these specialized spindle cells?\n",
    "            - the dendrite receives transmissions.\n",
    "                - so regular neurons are able to be triggered by more things\n",
    "            - wiki says no neuron has more than one axon\n",
    "                - but some don't have any axons, and transmit through dendrites instead\n",
    "                    - that's... weird. so neuron_A could ping neuron_weird_B, which pings A, D, and E, so A gets reactivated.\n",
    "                    -"
   ]
  },
  {
   "cell_type": "code",
   "execution_count": null,
   "metadata": {},
   "outputs": [],
   "source": []
  },
  {
   "cell_type": "code",
   "execution_count": null,
   "metadata": {},
   "outputs": [],
   "source": []
  },
  {
   "cell_type": "code",
   "execution_count": null,
   "metadata": {},
   "outputs": [],
   "source": []
  },
  {
   "cell_type": "code",
   "execution_count": null,
   "metadata": {},
   "outputs": [],
   "source": []
  },
  {
   "cell_type": "code",
   "execution_count": null,
   "metadata": {},
   "outputs": [],
   "source": []
  }
 ],
 "metadata": {
  "kernelspec": {
   "display_name": "Python 3",
   "language": "python",
   "name": "python3"
  },
  "language_info": {
   "codemirror_mode": {
    "name": "ipython",
    "version": 3
   },
   "file_extension": ".py",
   "mimetype": "text/x-python",
   "name": "python",
   "nbconvert_exporter": "python",
   "pygments_lexer": "ipython3",
   "version": "3.7.4"
  },
  "toc": {
   "base_numbering": 1,
   "nav_menu": {},
   "number_sections": true,
   "sideBar": true,
   "skip_h1_title": false,
   "title_cell": "Table of Contents",
   "title_sidebar": "Contents",
   "toc_cell": true,
   "toc_position": {},
   "toc_section_display": true,
   "toc_window_display": true
  }
 },
 "nbformat": 4,
 "nbformat_minor": 2
}
