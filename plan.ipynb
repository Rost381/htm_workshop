{
 "cells": [
  {
   "cell_type": "markdown",
   "metadata": {
    "toc": true
   },
   "source": [
    "<h1>Table of Contents<span class=\"tocSkip\"></span></h1>\n",
    "<div class=\"toc\"><ul class=\"toc-item\"><li><span><a href=\"#HTM-application-plan\" data-toc-modified-id=\"HTM-application-plan-1\"><span class=\"toc-item-num\">1&nbsp;&nbsp;</span>HTM application plan</a></span></li></ul></div>"
   ]
  },
  {
   "cell_type": "code",
   "execution_count": null,
   "metadata": {},
   "outputs": [],
   "source": []
  },
  {
   "cell_type": "markdown",
   "metadata": {},
   "source": [
    "# HTM application plan\n",
    "- NLP network: Predicting continuous value based on timestate-feed of words\n",
    "    - extract patterns based on grammar, structure\n",
    "    - evades computation time of n-grams\n",
    "        - architecture similar to one detailed in instagram analysis repo\n",
    "- inspiration: Cortical.ai Retina htm\n",
    "    - Retina is a trained HTM that returns an SDR for a word or phrase\n",
    "        - training:\n",
    "            - feed it a bunch of sentences from a very big corpus\n",
    "            - depending on the encoder, it'll encode \"the mouse ran across the kitchen\" and \"the rat ran across the kitchen\" in a similar fashion because the sentences are similar\n",
    "                - with enough of these in a large enough fashion, the SDRs of \"mouse\" and \"rat\" will become quite similar, because their context is similar so people write about them doing similar things\n",
    "                - immune to vocabulary mismatch issues\n",
    "                    - 'mice' and 'mouse' will be similar SDR because they're mentioned in similar context\n",
    "    - so Retina's model can be said to learn \"semantically instead of symbolically\" - making comparisons in a bitwise 2048 array space instead of using chars and strings\n",
    "        - 2 benefits:\n",
    "            - computation speed\n",
    "            - unsupervised nature\n",
    "    - the trick will be figuring out the proper encoder and feed-input timing\n",
    "        - for numenta, they wrote nupic in python 2.7 but i've got the community edition \"htm.core\" running with 3.7\n",
    "        - i should be able to mock up a basic htm text-> SDR converter\n",
    "            - although this is somewhat different from variable prediction, could construct an architecture for that as well\n",
    "        - look into 'different regions of neocortex represented by hexagonal column arrangements' from that guy on the forums\n",
    "            - my gut says that hexagons will be good here. bees use them.\n",
    "            - good idea of using an ensemble approach for deep learning\n"
   ]
  },
  {
   "cell_type": "code",
   "execution_count": null,
   "metadata": {},
   "outputs": [],
   "source": []
  },
  {
   "cell_type": "code",
   "execution_count": null,
   "metadata": {},
   "outputs": [],
   "source": []
  }
 ],
 "metadata": {
  "kernelspec": {
   "display_name": "Python 3",
   "language": "python",
   "name": "python3"
  },
  "language_info": {
   "codemirror_mode": {
    "name": "ipython",
    "version": 3
   },
   "file_extension": ".py",
   "mimetype": "text/x-python",
   "name": "python",
   "nbconvert_exporter": "python",
   "pygments_lexer": "ipython3",
   "version": "3.7.4"
  },
  "toc": {
   "base_numbering": 1,
   "nav_menu": {},
   "number_sections": true,
   "sideBar": true,
   "skip_h1_title": false,
   "title_cell": "Table of Contents",
   "title_sidebar": "Contents",
   "toc_cell": true,
   "toc_position": {},
   "toc_section_display": true,
   "toc_window_display": true
  }
 },
 "nbformat": 4,
 "nbformat_minor": 2
}
