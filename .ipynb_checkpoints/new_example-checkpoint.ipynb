{
 "cells": [
  {
   "cell_type": "markdown",
   "metadata": {
    "toc": true
   },
   "source": [
    "<h1>Table of Contents<span class=\"tocSkip\"></span></h1>\n",
    "<div class=\"toc\"><ul class=\"toc-item\"><li><span><a href=\"#learning-from-htm.core-community-fork-specific-tutorial\" data-toc-modified-id=\"learning-from-htm.core-community-fork-specific-tutorial-1\"><span class=\"toc-item-num\">1&nbsp;&nbsp;</span>learning from htm.core community fork specific tutorial</a></span><ul class=\"toc-item\"><li><span><a href=\"#default-TemporalMemory-values\" data-toc-modified-id=\"default-TemporalMemory-values-1.1\"><span class=\"toc-item-num\">1.1&nbsp;&nbsp;</span>default TemporalMemory values</a></span></li></ul></li></ul></div>"
   ]
  },
  {
   "cell_type": "markdown",
   "metadata": {},
   "source": [
    "# learning from htm.core community fork specific tutorial\n",
    "\n",
    "https://3rdman.de/2020/02/hierarchical-temporal-memory-part-1-getting-started/\n",
    "\n",
    "this is great, since nupic's original python 2.7 and htm.core python 3 is much different. it feels like the difference between Keras and Pytorch, really"
   ]
  },
  {
   "cell_type": "code",
   "execution_count": 1,
   "metadata": {},
   "outputs": [
    {
     "name": "stdout",
     "output_type": "stream",
     "text": [
      "[0 1 2 3 4 5 6 7 8 9]\n"
     ]
    }
   ],
   "source": [
    "# creating sample input sequence\n",
    "import numpy as np\n",
    "\n",
    "cycleArray = np.arange(0, 10, 1)\n",
    "print(cycleArray)"
   ]
  },
  {
   "cell_type": "code",
   "execution_count": 4,
   "metadata": {},
   "outputs": [
    {
     "name": "stdout",
     "output_type": "stream",
     "text": [
      "V: 0 | 11111111 00000000 00000000 00000000 00000000 00000000 00000000 00000000 00000000 00000000\n",
      "V: 1 | 00000000 01111111 00000000 00000000 00000000 00000000 00000000 00000000 00000000 00000000\n",
      "V: 2 | 00000000 00000000 00111111 00000000 00000000 00000000 00000000 00000000 00000000 00000000\n",
      "V: 3 | 00000000 00000000 00000000 00011111 00000000 00000000 00000000 00000000 00000000 00000000\n",
      "V: 4 | 00000000 00000000 00000000 00000000 00001111 00000000 00000000 00000000 00000000 00000000\n",
      "V: 5 | 00000000 00000000 00000000 00000000 00000000 00000111 00000000 00000000 00000000 00000000\n",
      "V: 6 | 00000000 00000000 00000000 00000000 00000000 00000000 00000011 00000000 00000000 00000000\n",
      "V: 7 | 00000000 00000000 00000000 00000000 00000000 00000000 00000000 00000001 00000000 00000000\n",
      "V: 8 | 00000000 00000000 00000000 00000000 00000000 00000000 00000000 00000000 00000000 00000000\n",
      "V: 9 | 00000000 00000000 00000000 00000000 00000000 00000000 00000000 00000000 00000000 00000000\n"
     ]
    }
   ],
   "source": [
    "# TM needs at least 8 active bits to work properly, interesting\n",
    "# 10 possible numbers, 8 active bits for each #, put array_size = 80\n",
    "import numpy as np\n",
    "\n",
    "cycleArray = np.arange(0, 10, 1)\n",
    "print(cycleArray)\n",
    "def formatArray(array):\n",
    "    result = ''\n",
    "    for i in range(array.size):\n",
    "        if i>0 and i%8 == 0:\n",
    "            result += ' '\n",
    "        result += format(array[i],'.0f')\n",
    "    return result\n",
    "\n",
    "arraySize = 80\n",
    "cycleArray = np.arange(0, 10, 1)\n",
    "\n",
    "\n",
    "\n",
    "for sensorValue in cycleArray:\n",
    "    sensorValueBits = np.zeros(arraySize)\n",
    "    sensorValueBits[sensorValue * 9: sensorValue * 8 + 8] = 1\n",
    "    \n",
    "    print('V:' + format(sensorValue, '>2')  + ' |', formatArray(sensorValueBits))\n",
    "#     print(format(sensorValue, '>2') + ' |', sensorValueBits)"
   ]
  },
  {
   "cell_type": "code",
   "execution_count": 8,
   "metadata": {},
   "outputs": [
    {
     "name": "stdout",
     "output_type": "stream",
     "text": [
      "Help on class SDR in module htm.bindings.sdr:\n",
      "\n",
      "class SDR(pybind11_builtins.pybind11_object)\n",
      " |  Sparse Distributed Representation\n",
      " |  \n",
      " |  This class manages the specification and momentary value of a Sparse Distributed\n",
      " |  Representation (SDR).  An SDR is a group of boolean values which represent the\n",
      " |  state of a group of neurons or their associated processes.\n",
      " |  \n",
      " |  SDR's have three commonly used data formats which are:\n",
      " |  *   dense\n",
      " |  *   sparse\n",
      " |  *   coordinates\n",
      " |  The SDR class has three magic properties, one for each of these data formats.\n",
      " |  These properties are the primary way of accessing the SDR's data.  When these\n",
      " |  properties are read from, the data is automatically converted to the requested\n",
      " |  format and is cached so getting a value in one format many times incurs no extra\n",
      " |  performance cost.  Assigning to the SDR via any one of these properties clears\n",
      " |  the cached values and causes them to be recomputed as needed.\n",
      " |  \n",
      " |  Example usage:\n",
      " |      # Make an SDR with 9 values, arranged in a (3 x 3) grid.\n",
      " |      X = SDR(dimensions = (3, 3))\n",
      " |  \n",
      " |      # These three statements are equivalent.\n",
      " |      X.dense  = [[0, 1, 0],\n",
      " |                  [0, 1, 0],\n",
      " |                  [0, 0, 1]]\n",
      " |      X.sparse = [ 1, 4, 8 ]\n",
      " |      X.coordinates = [[0, 1, 2], [1, 1, 2]]\n",
      " |  \n",
      " |      # Access data in any format, SDR will automatically convert data formats,\n",
      " |      # even if it was not the format used by the most recent assignment to the\n",
      " |      # SDR.\n",
      " |      X.dense  -> [[ 0, 1, 0 ],\n",
      " |                   [ 0, 1, 0 ],\n",
      " |                   [ 0, 0, 1 ]]\n",
      " |      x.sparse -> [ 1, 4, 8 ]\n",
      " |      X.coordinates -> [[ 0, 1, 2 ], [1, 1, 2 ]]\n",
      " |  \n",
      " |      # Data format conversions are cached, and when an SDR value changes the\n",
      " |      # cache is cleared.\n",
      " |      X.sparse = [1, 2, 3] # Assign new data to the SDR, clearing the cache.\n",
      " |      X.dense     # This line will convert formats.\n",
      " |      X.dense     # This line will resuse the result of the previous line\n",
      " |  \n",
      " |  Assigning a value to the SDR requires copying the data from Python into C++. To\n",
      " |  avoid this copy operation: modify sdr.dense inplace, and assign it to itself.\n",
      " |  This class will detect that it's being given it's own data and will omit the\n",
      " |  copy operation.\n",
      " |  \n",
      " |  Example Usage of In-Place Assignment:\n",
      " |      X    = SDR((1000, 1000))   # Initial value is all zeros\n",
      " |      data = X.dense\n",
      " |      data[  0,   4] = 1\n",
      " |      data[444, 444] = 1\n",
      " |      X.dense = data\n",
      " |      X.sparse -> [ 4, 444444 ]\n",
      " |  \n",
      " |  Data Validity Warning:  After assigning a new value to the SDR, all existing\n",
      " |  numpy arrays of data are invalid.  In order to get the latest copy of the data,\n",
      " |  re-access the data from the SDR.  Examples:\n",
      " |      A = SDR( dimensions )\n",
      " |      out_of_date = A.dense\n",
      " |      A.sparse = []\n",
      " |      # The variable \"out_of_date\" is now liable to be overwritten.\n",
      " |      A.dense = out_of_date   # This does not work, since the data is invalid.\n",
      " |  \n",
      " |  Method resolution order:\n",
      " |      SDR\n",
      " |      pybind11_builtins.pybind11_object\n",
      " |      builtins.object\n",
      " |  \n",
      " |  Methods defined here:\n",
      " |  \n",
      " |  __eq__(...)\n",
      " |      __eq__(self: htm.bindings.sdr.SDR, arg0: htm.bindings.sdr.SDR) -> bool\n",
      " |  \n",
      " |  __getstate__(...)\n",
      " |      __getstate__(self: htm.bindings.sdr.SDR) -> bytes\n",
      " |  \n",
      " |  __init__(...)\n",
      " |      __init__(*args, **kwargs)\n",
      " |      Overloaded function.\n",
      " |      \n",
      " |      1. __init__(self: htm.bindings.sdr.SDR, dimensions: List[int]) -> None\n",
      " |      \n",
      " |      Create an SDR object.  The initial value is all zeros.\n",
      " |      \n",
      " |      Argument dimensions is a list of dimension sizes, defining the shape of the SDR.\n",
      " |      The product of the dimensions must be greater than zero.\n",
      " |      \n",
      " |      2. __init__(self: htm.bindings.sdr.SDR, dimensions: int) -> None\n",
      " |      \n",
      " |      Create an SDR object.  The initial value is all zeros.\n",
      " |      \n",
      " |      Argument dimensions is a single integer dimension size, defining a 1-dimensional\n",
      " |      SDR.  Must be greater than zero.\n",
      " |      \n",
      " |      3. __init__(self: htm.bindings.sdr.SDR, sdr: htm.bindings.sdr.SDR) -> None\n",
      " |      \n",
      " |      Initialize this SDR as a deep copy of the given SDR.  This SDR and the given\n",
      " |      SDR will have no shared data and they can be modified without affecting each\n",
      " |      other.\n",
      " |  \n",
      " |  __ne__(...)\n",
      " |      __ne__(self: htm.bindings.sdr.SDR, arg0: htm.bindings.sdr.SDR) -> bool\n",
      " |  \n",
      " |  __setstate__(...)\n",
      " |      __setstate__(self: htm.bindings.sdr.SDR, arg0: bytes) -> None\n",
      " |  \n",
      " |  __str__(...)\n",
      " |      __str__(self: htm.bindings.sdr.SDR) -> object\n",
      " |  \n",
      " |  addNoise(...)\n",
      " |      addNoise(self: htm.bindings.sdr.SDR, fractionNoise: float, seed: int=0) -> htm.bindings.sdr.SDR\n",
      " |      \n",
      " |      Modify the SDR by moving a fraction of the active bits to different\n",
      " |      locations.  This method does not change the sparsity of the SDR, it moves\n",
      " |      the locations of the true values.  The resulting SDR has a controlled\n",
      " |      amount of overlap with the original.\n",
      " |      \n",
      " |      Argument fractionNoise is the fraction of active bits to swap out.  The original\n",
      " |      and resulting SDRs have the following relationship:\n",
      " |          originalSDR.getOverlap( newSDR ) / sparsity == 1 - fractionNoise\n",
      " |      \n",
      " |      Optional argument seed is used for the random number generator.  Seed 0 is\n",
      " |      special, it is replaced with the system time.  The default seed is 0.\n",
      " |  \n",
      " |  concatenate(...)\n",
      " |      concatenate(*args, **kwargs)\n",
      " |      Overloaded function.\n",
      " |      \n",
      " |      1. concatenate(self: htm.bindings.sdr.SDR, input1: htm.bindings.sdr.SDR, input2: htm.bindings.sdr.SDR, axis: int=0) -> htm.bindings.sdr.SDR\n",
      " |      \n",
      " |      Concatenates SDRs and stores the result in this SDR.\n",
      " |      \n",
      " |      This method has two overloads:\n",
      " |          1) Accepts two SDRs, for convenience.\n",
      " |          2) Accepts a list of SDRs, must contain at least two SDRs, can\n",
      " |             contain as many SDRs as needed.\n",
      " |      \n",
      " |      Argument axis: This can concatenate along any axis, as long as the\n",
      " |      result has the same dimensions as this SDR.  The default axis is 0.\n",
      " |      \n",
      " |      The output is stored in this SDR.  This method modifies this SDR\n",
      " |      and discards its current value!\n",
      " |      \n",
      " |      Example Usage:\n",
      " |          A = SDR( 10 )\n",
      " |          B = SDR( 10 )\n",
      " |          C = SDR( 20 )\n",
      " |          A.sparse = [0, 1, 2]\n",
      " |          B.sparse = [0, 1, 2]\n",
      " |          C.concatenate( A, B )\n",
      " |          C.sparse == [0, 1, 2, 10, 11, 12]\n",
      " |      \n",
      " |      \n",
      " |      2. concatenate(self: htm.bindings.sdr.SDR, inputs: List[htm.bindings.sdr.SDR], axis: int=0) -> htm.bindings.sdr.SDR\n",
      " |  \n",
      " |  flatten(...)\n",
      " |      flatten(self: htm.bindings.sdr.SDR) -> htm.bindings.sdr.SDR\n",
      " |      \n",
      " |      Change the dimensions of the SDR into one big dimension.\n",
      " |  \n",
      " |  getOverlap(...)\n",
      " |      getOverlap(self: htm.bindings.sdr.SDR, arg0: htm.bindings.sdr.SDR) -> int\n",
      " |      \n",
      " |      Calculates the number of true bits which both SDRs have in common.\n",
      " |  \n",
      " |  getSparsity(...)\n",
      " |      getSparsity(self: htm.bindings.sdr.SDR) -> float\n",
      " |      \n",
      " |      Calculates the sparsity of the SDR, which is the fraction of bits which are\n",
      " |      true out of the total number of bits in the SDR.\n",
      " |      I.E.  sparsity = sdr.getSum() / sdr.size\n",
      " |  \n",
      " |  getSum(...)\n",
      " |      getSum(self: htm.bindings.sdr.SDR) -> int\n",
      " |      \n",
      " |      Calculates the number of true values in the SDR.\n",
      " |  \n",
      " |  intersection(...)\n",
      " |      intersection(*args, **kwargs)\n",
      " |      Overloaded function.\n",
      " |      \n",
      " |      1. intersection(self: htm.bindings.sdr.SDR, arg0: htm.bindings.sdr.SDR, arg1: htm.bindings.sdr.SDR) -> htm.bindings.sdr.SDR\n",
      " |      \n",
      " |      This method calculates the set intersection of the active bits in each input\n",
      " |      SDR.\n",
      " |      \n",
      " |      This method has two overloads:\n",
      " |          1) Accepts two SDRs, for convenience.\n",
      " |          2) Accepts a list of SDRs, must contain at least two SDRs, can contain as\n",
      " |             many SDRs as needed.\n",
      " |      \n",
      " |      In both cases the output is stored in this SDR.  This method modifies this SDR\n",
      " |      and discards its current value!\n",
      " |      \n",
      " |      Example Usage:\n",
      " |          A = SDR( 10 )\n",
      " |          B = SDR( 10 )\n",
      " |          X = SDR( 10 )\n",
      " |          A.sparse = [0, 1, 2, 3]\n",
      " |          B.sparse =       [2, 3, 4, 5]\n",
      " |          X.intersection( A, B )\n",
      " |          X.sparse -> [2, 3]\n",
      " |      \n",
      " |      \n",
      " |      2. intersection(self: htm.bindings.sdr.SDR, arg0: List[htm.bindings.sdr.SDR]) -> htm.bindings.sdr.SDR\n",
      " |  \n",
      " |  killCells(...)\n",
      " |      killCells(self: htm.bindings.sdr.SDR, fraction: float, seed: int=0) -> htm.bindings.sdr.SDR\n",
      " |      \n",
      " |      Modify the SDR by setting a fraction of the bits to zero.\n",
      " |      \n",
      " |      Argument fraction must be between 0 and 1 (inclusive).  This fraction of the\n",
      " |      cells in the SDR will be set to zero, regardless of their current state.\n",
      " |      \n",
      " |      Argument seed is for a random number generator.  If not given, this uses the\n",
      " |      magic seed 0.  Use the same seed to consistently kill the same cells.\n",
      " |  \n",
      " |  randomize(...)\n",
      " |      randomize(*args, **kwargs)\n",
      " |      Overloaded function.\n",
      " |      \n",
      " |      1. randomize(self: htm.bindings.sdr.SDR, sparsity: float, seed: int=0) -> htm.bindings.sdr.SDR\n",
      " |      \n",
      " |      Make a random SDR, overwriting the current value of the SDR.  The result has\n",
      " |      uniformly random activations.\n",
      " |      \n",
      " |      Argument sparsity is the fraction of bits to set to true.  After calling this\n",
      " |      method sdr.getSparsity() will return this sparsity, rounded to the nearest\n",
      " |      fraction of self.size.\n",
      " |      \n",
      " |      Optional argument seed is used for the random number generator.  Seed 0 is\n",
      " |      special, it is replaced with the system time  The default seed is 0.\n",
      " |      \n",
      " |      2. randomize(self: htm.bindings.sdr.SDR, sparsity: float, rng: htm.bindings.math.Random) -> htm.bindings.sdr.SDR\n",
      " |      \n",
      " |      This overload accepts Random Number Generators (RNG) intead of a random seed.\n",
      " |      RNGs must be instances of \"htm.bindings.math.Random\".\n",
      " |  \n",
      " |  reshape(...)\n",
      " |      reshape(self: htm.bindings.sdr.SDR, arg0: List[int]) -> htm.bindings.sdr.SDR\n",
      " |      \n",
      " |      Change the dimensions of the SDR.  The total size must not change.\n",
      " |  \n",
      " |  setSDR(...)\n",
      " |      setSDR(self: htm.bindings.sdr.SDR, arg0: htm.bindings.sdr.SDR) -> htm.bindings.sdr.SDR\n",
      " |      \n",
      " |      Deep Copy the given SDR to this SDR.  This overwrites the current value of this\n",
      " |      SDR.  This SDR and the given SDR will have no shared data and they can be\n",
      " |      modified without affecting each other.\n",
      " |  \n",
      " |  union(...)\n",
      " |      union(*args, **kwargs)\n",
      " |      Overloaded function.\n",
      " |      \n",
      " |      1. union(self: htm.bindings.sdr.SDR, arg0: htm.bindings.sdr.SDR, arg1: htm.bindings.sdr.SDR) -> htm.bindings.sdr.SDR\n",
      " |      \n",
      " |      This method calculates the set union of the active bits in each input SDR.\n",
      " |      \n",
      " |      The output is stored in this SDR.  This method discards the SDRs current value!\n",
      " |      \n",
      " |      Example Usage:\n",
      " |          A = SDR( 10 )\n",
      " |          B = SDR( 10 )\n",
      " |          U = SDR( 10 )\n",
      " |          A.sparse = [0, 1, 2, 3]\n",
      " |          B.sparse =       [2, 3, 4, 5]\n",
      " |          U.union( A, B )\n",
      " |          U.sparse -> [0, 1, 2, 3, 4, 5]\n",
      " |      \n",
      " |      \n",
      " |      2. union(self: htm.bindings.sdr.SDR, arg0: List[htm.bindings.sdr.SDR]) -> htm.bindings.sdr.SDR\n",
      " |  \n",
      " |  zero(...)\n",
      " |      zero(self: htm.bindings.sdr.SDR) -> htm.bindings.sdr.SDR\n",
      " |      \n",
      " |      Set all of the values in the SDR to false.  This method overwrites the SDRs\n",
      " |      current value.\n",
      " |  \n",
      " |  ----------------------------------------------------------------------\n",
      " |  Data descriptors defined here:\n",
      " |  \n",
      " |  coordinates\n",
      " |      List of numpy arrays, containing the coordinates of only the true values in\n",
      " |      the SDR.  This is a list of lists: the outter list contains an entry for each\n",
      " |      dimension in the SDR. The inner lists contain the coordinates of each true bit.\n",
      " |      The inner lists run in parallel. This format is useful because it contains the\n",
      " |      location of each true bit inside of the SDR's dimensional space.\n",
      " |      \n",
      " |      Coordinate data must be sorted and contain no duplicates.\n",
      " |  \n",
      " |  dense\n",
      " |      A numpy array of boolean values, representing all of the bits in the SDR.\n",
      " |      This format allows random-access queries of the SDRs values.\n",
      " |      \n",
      " |      After modifying this array you MUST assign the array back into the SDR, in order\n",
      " |      to notify the SDR that its dense array has changed and its cached data is out of\n",
      " |      date.  If you did't copy this data, then SDR won't copy either.\n",
      " |  \n",
      " |  dimensions\n",
      " |      A list of dimensions of the SDR.\n",
      " |  \n",
      " |  size\n",
      " |      The total number of boolean values in the SDR.\n",
      " |  \n",
      " |  sparse\n",
      " |      A numpy array containing the indices of only the true values in the SDR.\n",
      " |      These are indices into the flattened SDR. This format allows for quickly\n",
      " |      accessing all of the true bits in the SDR.\n",
      " |      \n",
      " |      Sparse data must contain no duplicates.\n",
      " |  \n",
      " |  ----------------------------------------------------------------------\n",
      " |  Static methods inherited from pybind11_builtins.pybind11_object:\n",
      " |  \n",
      " |  __new__(*args, **kwargs) from pybind11_builtins.pybind11_type\n",
      " |      Create and return a new object.  See help(type) for accurate signature.\n",
      "\n"
     ]
    }
   ],
   "source": [
    "from htm.bindings.sdr import SDR\n",
    "help(htm.bindings.sdr.SDR)"
   ]
  },
  {
   "cell_type": "markdown",
   "metadata": {},
   "source": [
    "## note on SDR value reassignments:\n",
    "avoid the python-C++ copy operation with inplace .dense modification -> reassign to self. class will detect it's being given its own data, and omits copy operation\n"
   ]
  },
  {
   "cell_type": "code",
   "execution_count": 9,
   "metadata": {},
   "outputs": [
    {
     "data": {
      "text/plain": [
       "numpy.ndarray"
      ]
     },
     "execution_count": 9,
     "metadata": {},
     "output_type": "execute_result"
    }
   ],
   "source": [
    "X = SDR((1000,1000))\n",
    "data = X.dense # assign X's value to data\n",
    "type(data) # data is just a numpy array now"
   ]
  },
  {
   "cell_type": "code",
   "execution_count": 10,
   "metadata": {},
   "outputs": [
    {
     "data": {
      "text/plain": [
       "(1000, 1000)"
      ]
     },
     "execution_count": 10,
     "metadata": {},
     "output_type": "execute_result"
    }
   ],
   "source": [
    "data.shape"
   ]
  },
  {
   "cell_type": "code",
   "execution_count": 11,
   "metadata": {},
   "outputs": [],
   "source": [
    "data[0,4] = 1\n",
    "data[444,444] = 1"
   ]
  },
  {
   "cell_type": "code",
   "execution_count": 12,
   "metadata": {},
   "outputs": [
    {
     "data": {
      "text/plain": [
       "array([], dtype=uint32)"
      ]
     },
     "execution_count": 12,
     "metadata": {},
     "output_type": "execute_result"
    }
   ],
   "source": [
    "X.sparse"
   ]
  },
  {
   "cell_type": "code",
   "execution_count": 13,
   "metadata": {},
   "outputs": [
    {
     "data": {
      "text/plain": [
       "array([     4, 444444], dtype=uint32)"
      ]
     },
     "execution_count": 13,
     "metadata": {},
     "output_type": "execute_result"
    }
   ],
   "source": [
    "X.dense = data\n",
    "X.sparse"
   ]
  },
  {
   "cell_type": "code",
   "execution_count": 14,
   "metadata": {},
   "outputs": [
    {
     "name": "stdout",
     "output_type": "stream",
     "text": [
      "[0 1 2 3 4 5 6 7 8 9]\n",
      "V: 0 | 11111111 00000000 00000000 00000000 00000000 00000000 00000000 00000000 00000000 00000000\n",
      "V: 1 | 00000000 01111111 00000000 00000000 00000000 00000000 00000000 00000000 00000000 00000000\n",
      "V: 2 | 00000000 00000000 00111111 00000000 00000000 00000000 00000000 00000000 00000000 00000000\n",
      "V: 3 | 00000000 00000000 00000000 00011111 00000000 00000000 00000000 00000000 00000000 00000000\n",
      "V: 4 | 00000000 00000000 00000000 00000000 00001111 00000000 00000000 00000000 00000000 00000000\n",
      "V: 5 | 00000000 00000000 00000000 00000000 00000000 00000111 00000000 00000000 00000000 00000000\n",
      "V: 6 | 00000000 00000000 00000000 00000000 00000000 00000000 00000011 00000000 00000000 00000000\n",
      "V: 7 | 00000000 00000000 00000000 00000000 00000000 00000000 00000000 00000001 00000000 00000000\n",
      "V: 8 | 00000000 00000000 00000000 00000000 00000000 00000000 00000000 00000000 00000000 00000000\n",
      "V: 9 | 00000000 00000000 00000000 00000000 00000000 00000000 00000000 00000000 00000000 00000000\n"
     ]
    }
   ],
   "source": [
    "cycleArray = np.arange(0, 10, 1)\n",
    "print(cycleArray)\n",
    "def formatArray(array):\n",
    "    result = ''\n",
    "    for i in range(array.size):\n",
    "        if i>0 and i%8 == 0:\n",
    "            result += ' '\n",
    "        result += format(array[i],'.0f')\n",
    "    return result\n",
    "\n",
    "arraySize = 80\n",
    "cycleArray = np.arange(0, 10, 1)\n",
    "inputSDR = SDR(arraySize)\n",
    "\n",
    "\n",
    "for sensorValue in cycleArray:\n",
    "    sensorValueBits = inputSDR.dense # assign to SDR\n",
    "    sensorValueBits = np.zeros(arraySize)\n",
    "    sensorValueBits[sensorValue * 9: sensorValue * 8 + 8] = 1\n",
    "    inputSDR.dense = sensorValueBits\n",
    "    \n",
    "    print('V:' + format(sensorValue, '>2')  + ' |', formatArray(sensorValueBits))"
   ]
  },
  {
   "cell_type": "markdown",
   "metadata": {},
   "source": [
    "## default TemporalMemory values\n",
    "- cellsPerColumn: int = 32\n",
    "- activationThreshold: int = 13\n",
    "- initialPermanence: float = 0.21\n",
    "- connectedPermanence: float = 0.5\n",
    "- minThreshold: int = 10\n",
    "- maxNewSynapseCount: int = 20\n",
    "- permanenceIncrement: float = 0.1\n",
    "- permanenceDecrement: float = 0.1\n",
    "- predictedSegmentDecrement: float = 0.0\n",
    "- seed: int = 42\n",
    "- maxSegmentsPerCell: int = 255\n",
    "- maxSynapsesPerSegment: int = 255\n",
    "- checkInputs: bool = True\n",
    "- externalPredictiveInputs: int = 0\n",
    "- anomalyMode: htm.bindings.algorithms.ANMode = ANMode.RAW"
   ]
  },
  {
   "cell_type": "code",
   "execution_count": 17,
   "metadata": {},
   "outputs": [],
   "source": [
    "from htm.bindings.algorithms import TemporalMemory\n"
   ]
  },
  {
   "cell_type": "code",
   "execution_count": null,
   "metadata": {},
   "outputs": [],
   "source": [
    "# for example reasons, we have 1 cell per column\n",
    "# this make this... not really temporal, however."
   ]
  },
  {
   "cell_type": "code",
   "execution_count": 20,
   "metadata": {},
   "outputs": [
    {
     "name": "stdout",
     "output_type": "stream",
     "text": [
      "[0 1 2 3 4 5 6 7 8 9]\n",
      "V: 0 | 11111111 00000000 00000000 00000000 00000000 00000000 00000000 00000000 00000000 00000000 Active\n",
      "1.00 | 00000000 00000000 00000000 00000000 00000000 00000000 00000000 00000000 00000000 00000000 Predicted\n",
      "V: 1 | 00000000 01111111 00000000 00000000 00000000 00000000 00000000 00000000 00000000 00000000 Active\n",
      "1.00 | 00000000 00000000 00000000 00000000 00000000 00000000 00000000 00000000 00000000 00000000 Predicted\n",
      "V: 2 | 00000000 00000000 00111111 00000000 00000000 00000000 00000000 00000000 00000000 00000000 Active\n",
      "1.00 | 00000000 00000000 00000000 00000000 00000000 00000000 00000000 00000000 00000000 00000000 Predicted\n",
      "V: 3 | 00000000 00000000 00000000 00011111 00000000 00000000 00000000 00000000 00000000 00000000 Active\n",
      "1.00 | 00000000 00000000 00000000 00000000 00000000 00000000 00000000 00000000 00000000 00000000 Predicted\n",
      "V: 4 | 00000000 00000000 00000000 00000000 00001111 00000000 00000000 00000000 00000000 00000000 Active\n",
      "1.00 | 00000000 00000000 00000000 00000000 00000000 00000000 00000000 00000000 00000000 00000000 Predicted\n",
      "V: 5 | 00000000 00000000 00000000 00000000 00000000 00000111 00000000 00000000 00000000 00000000 Active\n",
      "1.00 | 00000000 00000000 00000000 00000000 00000000 00000000 00000000 00000000 00000000 00000000 Predicted\n",
      "V: 6 | 00000000 00000000 00000000 00000000 00000000 00000000 00000011 00000000 00000000 00000000 Active\n",
      "1.00 | 00000000 00000000 00000000 00000000 00000000 00000000 00000000 00000000 00000000 00000000 Predicted\n",
      "V: 7 | 00000000 00000000 00000000 00000000 00000000 00000000 00000000 00000001 00000000 00000000 Active\n",
      "1.00 | 00000000 00000000 00000000 00000000 00000000 00000000 00000000 00000000 00000000 00000000 Predicted\n",
      "V: 8 | 00000000 00000000 00000000 00000000 00000000 00000000 00000000 00000000 00000000 00000000 Active\n",
      "0.00 | 00000000 00000000 00000000 00000000 00000000 00000000 00000000 00000000 00000000 00000000 Predicted\n",
      "V: 9 | 00000000 00000000 00000000 00000000 00000000 00000000 00000000 00000000 00000000 00000000 Active\n",
      "0.00 | 00000000 00000000 00000000 00000000 00000000 00000000 00000000 00000000 00000000 00000000 Predicted\n",
      "V: 0 | 11111111 00000000 00000000 00000000 00000000 00000000 00000000 00000000 00000000 00000000 Active\n",
      "1.00 | 00000000 01111111 00000000 00000000 00000000 00000000 00000000 00000000 00000000 00000000 Predicted\n",
      "V: 1 | 00000000 01111111 00000000 00000000 00000000 00000000 00000000 00000000 00000000 00000000 Active\n",
      "0.00 | 00000000 00000000 00000000 00000000 00000000 00000000 00000000 00000000 00000000 00000000 Predicted\n",
      "V: 2 | 00000000 00000000 00111111 00000000 00000000 00000000 00000000 00000000 00000000 00000000 Active\n",
      "1.00 | 00000000 00000000 00000000 00000000 00000000 00000000 00000000 00000000 00000000 00000000 Predicted\n",
      "V: 3 | 00000000 00000000 00000000 00011111 00000000 00000000 00000000 00000000 00000000 00000000 Active\n",
      "1.00 | 00000000 00000000 00000000 00000000 00000000 00000000 00000000 00000000 00000000 00000000 Predicted\n",
      "V: 4 | 00000000 00000000 00000000 00000000 00001111 00000000 00000000 00000000 00000000 00000000 Active\n",
      "1.00 | 00000000 00000000 00000000 00000000 00000000 00000000 00000000 00000000 00000000 00000000 Predicted\n",
      "V: 5 | 00000000 00000000 00000000 00000000 00000000 00000111 00000000 00000000 00000000 00000000 Active\n",
      "1.00 | 00000000 00000000 00000000 00000000 00000000 00000000 00000000 00000000 00000000 00000000 Predicted\n",
      "V: 6 | 00000000 00000000 00000000 00000000 00000000 00000000 00000011 00000000 00000000 00000000 Active\n",
      "1.00 | 00000000 00000000 00000000 00000000 00000000 00000000 00000000 00000000 00000000 00000000 Predicted\n",
      "V: 7 | 00000000 00000000 00000000 00000000 00000000 00000000 00000000 00000001 00000000 00000000 Active\n",
      "1.00 | 00000000 00000000 00000000 00000000 00000000 00000000 00000000 00000000 00000000 00000000 Predicted\n",
      "V: 8 | 00000000 00000000 00000000 00000000 00000000 00000000 00000000 00000000 00000000 00000000 Active\n",
      "0.00 | 00000000 00000000 00000000 00000000 00000000 00000000 00000000 00000000 00000000 00000000 Predicted\n",
      "V: 9 | 00000000 00000000 00000000 00000000 00000000 00000000 00000000 00000000 00000000 00000000 Active\n",
      "0.00 | 00000000 00000000 00000000 00000000 00000000 00000000 00000000 00000000 00000000 00000000 Predicted\n"
     ]
    }
   ],
   "source": [
    "cycleArray = np.arange(0, 10, 1)\n",
    "print(cycleArray)\n",
    "def formatSdr(sdr):\n",
    "    result = ''\n",
    "    for i in range(sdr.size):\n",
    "        if i > 0 and i % 8 == 0:\n",
    "            result += ' '\n",
    "        result += str(sdr.dense.flatten()[i])\n",
    "    return result\n",
    "\n",
    "arraySize = 80\n",
    "cycleArray = np.arange(0, 10, 1)\n",
    "inputSDR = SDR(arraySize)\n",
    "\n",
    "tm = TemporalMemory(columnDimensions = (inputSDR.size,),\n",
    "        cellsPerColumn = 1,       # default: 32\n",
    "        minThreshold = 4,         # default: 10\n",
    "        activationThreshold = 8,  # default: 13\n",
    "        initialPermanence = 0.5,  # default: 0.21\n",
    "        )\n",
    "\n",
    "for cycle in range(2): # 2 training cycles!\n",
    "    for sensorValue in cycleArray:\n",
    "        sensorValueBits = inputSDR.dense # assign to SDR\n",
    "        sensorValueBits = np.zeros(arraySize)\n",
    "        sensorValueBits[sensorValue * 9: sensorValue * 8 + 8] = 1\n",
    "        inputSDR.dense = sensorValueBits\n",
    "\n",
    "        tm.compute(inputSDR, learn=True)\n",
    "        print('V:' + format(sensorValue, '>2')  + ' |', formatSdr(tm.getActiveCells()), 'Active')\n",
    "\n",
    "        tm.activateDendrites(True) # activate the dendrites. what else would it do?\n",
    "        print(format(tm.anomaly, '.2f') + ' |', formatSdr(tm.getPredictiveCells()), 'Predicted')"
   ]
  },
  {
   "cell_type": "code",
   "execution_count": null,
   "metadata": {},
   "outputs": [],
   "source": []
  },
  {
   "cell_type": "code",
   "execution_count": null,
   "metadata": {},
   "outputs": [],
   "source": []
  },
  {
   "cell_type": "code",
   "execution_count": null,
   "metadata": {},
   "outputs": [],
   "source": []
  },
  {
   "cell_type": "code",
   "execution_count": null,
   "metadata": {},
   "outputs": [],
   "source": []
  },
  {
   "cell_type": "code",
   "execution_count": null,
   "metadata": {},
   "outputs": [],
   "source": []
  },
  {
   "cell_type": "code",
   "execution_count": null,
   "metadata": {},
   "outputs": [],
   "source": []
  },
  {
   "cell_type": "code",
   "execution_count": null,
   "metadata": {},
   "outputs": [],
   "source": []
  },
  {
   "cell_type": "code",
   "execution_count": null,
   "metadata": {},
   "outputs": [],
   "source": []
  },
  {
   "cell_type": "code",
   "execution_count": null,
   "metadata": {},
   "outputs": [],
   "source": []
  },
  {
   "cell_type": "code",
   "execution_count": null,
   "metadata": {},
   "outputs": [],
   "source": []
  }
 ],
 "metadata": {
  "kernelspec": {
   "display_name": "Python 3",
   "language": "python",
   "name": "python3"
  },
  "language_info": {
   "codemirror_mode": {
    "name": "ipython",
    "version": 3
   },
   "file_extension": ".py",
   "mimetype": "text/x-python",
   "name": "python",
   "nbconvert_exporter": "python",
   "pygments_lexer": "ipython3",
   "version": "3.7.4"
  },
  "toc": {
   "base_numbering": 1,
   "nav_menu": {},
   "number_sections": true,
   "sideBar": false,
   "skip_h1_title": false,
   "title_cell": "Table of Contents",
   "title_sidebar": "Contents",
   "toc_cell": true,
   "toc_position": {
    "height": "47.429px",
    "left": "811.747px",
    "top": "53.4233px",
    "width": "160.98px"
   },
   "toc_section_display": false,
   "toc_window_display": true
  }
 },
 "nbformat": 4,
 "nbformat_minor": 2
}
