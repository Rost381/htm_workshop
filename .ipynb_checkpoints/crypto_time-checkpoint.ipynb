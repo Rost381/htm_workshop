{
 "cells": [
  {
   "cell_type": "markdown",
   "metadata": {
    "toc": true
   },
   "source": [
    "<h1>Table of Contents<span class=\"tocSkip\"></span></h1>\n",
    "<div class=\"toc\"><ul class=\"toc-item\"><li><span><a href=\"#can-HTM-predict-crypto-prices?-probably\" data-toc-modified-id=\"can-HTM-predict-crypto-prices?-probably-1\"><span class=\"toc-item-num\">1&nbsp;&nbsp;</span>can HTM predict crypto prices? probably</a></span><ul class=\"toc-item\"><li><span><a href=\"#can-i-use-HTM-to-do-so?-let's-find-out\" data-toc-modified-id=\"can-i-use-HTM-to-do-so?-let's-find-out-1.1\"><span class=\"toc-item-num\">1.1&nbsp;&nbsp;</span>can <em>i</em> use HTM to do so? let's find out</a></span></li><li><span><a href=\"#features:\" data-toc-modified-id=\"features:-1.2\"><span class=\"toc-item-num\">1.2&nbsp;&nbsp;</span>features:</a></span></li><li><span><a href=\"#borrowing-some-defaults-from-hotgym.py-(htm.core-edition)\" data-toc-modified-id=\"borrowing-some-defaults-from-hotgym.py-(htm.core-edition)-1.3\"><span class=\"toc-item-num\">1.3&nbsp;&nbsp;</span>borrowing some defaults from hotgym.py (htm.core edition)</a></span></li><li><span><a href=\"#dateTime-conversion:\" data-toc-modified-id=\"dateTime-conversion:-1.4\"><span class=\"toc-item-num\">1.4&nbsp;&nbsp;</span>dateTime conversion:</a></span></li></ul></li><li><span><a href=\"#encoders\" data-toc-modified-id=\"encoders-2\"><span class=\"toc-item-num\">2&nbsp;&nbsp;</span>encoders</a></span></li><li><span><a href=\"#spatial-pooler-+-TM-+-anomaly-setup\" data-toc-modified-id=\"spatial-pooler-+-TM-+-anomaly-setup-3\"><span class=\"toc-item-num\">3&nbsp;&nbsp;</span>spatial pooler + TM + anomaly setup</a></span></li><li><span><a href=\"#encoder\" data-toc-modified-id=\"encoder-4\"><span class=\"toc-item-num\">4&nbsp;&nbsp;</span>encoder</a></span></li></ul></div>"
   ]
  },
  {
   "cell_type": "code",
   "execution_count": 5,
   "metadata": {},
   "outputs": [],
   "source": [
    "import csv\n",
    "import datetime\n",
    "import os\n",
    "import numpy as np\n",
    "import random\n",
    "import math\n",
    "import pandas as pd\n",
    "import seaborn as sns\n",
    "import matplotlib.pyplot as plt\n",
    "import datetime\n",
    "\n",
    "from htm.bindings.sdr import SDR, Metrics\n",
    "from htm.encoders.rdse import RDSE, RDSE_Parameters\n",
    "from htm.encoders.date import DateEncoder\n",
    "from htm.bindings.algorithms import SpatialPooler\n",
    "from htm.bindings.algorithms import TemporalMemory\n",
    "from htm.algorithms.anomaly_likelihood import AnomalyLikelihood #FIXME use TM.anomaly instead, but it gives worse results than the py.AnomalyLikelihood now\n",
    "from htm.bindings.algorithms import Predictor"
   ]
  },
  {
   "cell_type": "markdown",
   "metadata": {},
   "source": [
    "# can HTM predict crypto prices? probably\n",
    "## can _i_ use HTM to do so? let's find out"
   ]
  },
  {
   "cell_type": "code",
   "execution_count": 11,
   "metadata": {},
   "outputs": [
    {
     "data": {
      "text/html": [
       "<div>\n",
       "<style scoped>\n",
       "    .dataframe tbody tr th:only-of-type {\n",
       "        vertical-align: middle;\n",
       "    }\n",
       "\n",
       "    .dataframe tbody tr th {\n",
       "        vertical-align: top;\n",
       "    }\n",
       "\n",
       "    .dataframe thead th {\n",
       "        text-align: right;\n",
       "    }\n",
       "</style>\n",
       "<table border=\"1\" class=\"dataframe\">\n",
       "  <thead>\n",
       "    <tr style=\"text-align: right;\">\n",
       "      <th></th>\n",
       "      <th>date</th>\n",
       "      <th>symbol</th>\n",
       "      <th>open</th>\n",
       "      <th>high</th>\n",
       "      <th>low</th>\n",
       "      <th>close</th>\n",
       "      <th>volume_btc</th>\n",
       "      <th>volume_usd</th>\n",
       "    </tr>\n",
       "  </thead>\n",
       "  <tbody>\n",
       "    <tr>\n",
       "      <td>0</td>\n",
       "      <td>2020-08-05 03-PM</td>\n",
       "      <td>BTCUSD</td>\n",
       "      <td>11634.15</td>\n",
       "      <td>11692.50</td>\n",
       "      <td>11610.00</td>\n",
       "      <td>11692.43</td>\n",
       "      <td>512.77</td>\n",
       "      <td>5974153.85</td>\n",
       "    </tr>\n",
       "    <tr>\n",
       "      <td>1</td>\n",
       "      <td>2020-08-05 02-PM</td>\n",
       "      <td>BTCUSD</td>\n",
       "      <td>11630.00</td>\n",
       "      <td>11657.72</td>\n",
       "      <td>11510.41</td>\n",
       "      <td>11634.15</td>\n",
       "      <td>1150.49</td>\n",
       "      <td>13354344.69</td>\n",
       "    </tr>\n",
       "    <tr>\n",
       "      <td>2</td>\n",
       "      <td>2020-08-05 01-PM</td>\n",
       "      <td>BTCUSD</td>\n",
       "      <td>11576.28</td>\n",
       "      <td>11646.70</td>\n",
       "      <td>11556.47</td>\n",
       "      <td>11630.00</td>\n",
       "      <td>1345.00</td>\n",
       "      <td>15602104.09</td>\n",
       "    </tr>\n",
       "    <tr>\n",
       "      <td>3</td>\n",
       "      <td>2020-08-05 12-PM</td>\n",
       "      <td>BTCUSD</td>\n",
       "      <td>11444.92</td>\n",
       "      <td>11601.04</td>\n",
       "      <td>11400.00</td>\n",
       "      <td>11576.28</td>\n",
       "      <td>1888.34</td>\n",
       "      <td>21757593.94</td>\n",
       "    </tr>\n",
       "    <tr>\n",
       "      <td>4</td>\n",
       "      <td>2020-08-05 11-AM</td>\n",
       "      <td>BTCUSD</td>\n",
       "      <td>11400.64</td>\n",
       "      <td>11460.21</td>\n",
       "      <td>11392.38</td>\n",
       "      <td>11444.92</td>\n",
       "      <td>601.94</td>\n",
       "      <td>6875301.83</td>\n",
       "    </tr>\n",
       "    <tr>\n",
       "      <td>5</td>\n",
       "      <td>2020-08-05 10-AM</td>\n",
       "      <td>BTCUSD</td>\n",
       "      <td>11398.78</td>\n",
       "      <td>11443.24</td>\n",
       "      <td>11372.94</td>\n",
       "      <td>11400.64</td>\n",
       "      <td>427.66</td>\n",
       "      <td>4877598.31</td>\n",
       "    </tr>\n",
       "    <tr>\n",
       "      <td>6</td>\n",
       "      <td>2020-08-05 09-AM</td>\n",
       "      <td>BTCUSD</td>\n",
       "      <td>11299.61</td>\n",
       "      <td>11400.00</td>\n",
       "      <td>11299.60</td>\n",
       "      <td>11398.78</td>\n",
       "      <td>328.09</td>\n",
       "      <td>3727301.51</td>\n",
       "    </tr>\n",
       "    <tr>\n",
       "      <td>7</td>\n",
       "      <td>2020-08-05 08-AM</td>\n",
       "      <td>BTCUSD</td>\n",
       "      <td>11279.32</td>\n",
       "      <td>11322.95</td>\n",
       "      <td>11279.32</td>\n",
       "      <td>11299.61</td>\n",
       "      <td>212.82</td>\n",
       "      <td>2404411.02</td>\n",
       "    </tr>\n",
       "    <tr>\n",
       "      <td>8</td>\n",
       "      <td>2020-08-05 07-AM</td>\n",
       "      <td>BTCUSD</td>\n",
       "      <td>11279.57</td>\n",
       "      <td>11314.89</td>\n",
       "      <td>11273.61</td>\n",
       "      <td>11279.32</td>\n",
       "      <td>163.97</td>\n",
       "      <td>1851955.65</td>\n",
       "    </tr>\n",
       "    <tr>\n",
       "      <td>9</td>\n",
       "      <td>2020-08-05 06-AM</td>\n",
       "      <td>BTCUSD</td>\n",
       "      <td>11297.34</td>\n",
       "      <td>11328.57</td>\n",
       "      <td>11277.08</td>\n",
       "      <td>11279.57</td>\n",
       "      <td>211.26</td>\n",
       "      <td>2387809.86</td>\n",
       "    </tr>\n",
       "  </tbody>\n",
       "</table>\n",
       "</div>"
      ],
      "text/plain": [
       "               date  symbol      open      high       low     close  \\\n",
       "0  2020-08-05 03-PM  BTCUSD  11634.15  11692.50  11610.00  11692.43   \n",
       "1  2020-08-05 02-PM  BTCUSD  11630.00  11657.72  11510.41  11634.15   \n",
       "2  2020-08-05 01-PM  BTCUSD  11576.28  11646.70  11556.47  11630.00   \n",
       "3  2020-08-05 12-PM  BTCUSD  11444.92  11601.04  11400.00  11576.28   \n",
       "4  2020-08-05 11-AM  BTCUSD  11400.64  11460.21  11392.38  11444.92   \n",
       "5  2020-08-05 10-AM  BTCUSD  11398.78  11443.24  11372.94  11400.64   \n",
       "6  2020-08-05 09-AM  BTCUSD  11299.61  11400.00  11299.60  11398.78   \n",
       "7  2020-08-05 08-AM  BTCUSD  11279.32  11322.95  11279.32  11299.61   \n",
       "8  2020-08-05 07-AM  BTCUSD  11279.57  11314.89  11273.61  11279.32   \n",
       "9  2020-08-05 06-AM  BTCUSD  11297.34  11328.57  11277.08  11279.57   \n",
       "\n",
       "   volume_btc   volume_usd  \n",
       "0      512.77   5974153.85  \n",
       "1     1150.49  13354344.69  \n",
       "2     1345.00  15602104.09  \n",
       "3     1888.34  21757593.94  \n",
       "4      601.94   6875301.83  \n",
       "5      427.66   4877598.31  \n",
       "6      328.09   3727301.51  \n",
       "7      212.82   2404411.02  \n",
       "8      163.97   1851955.65  \n",
       "9      211.26   2387809.86  "
      ]
     },
     "execution_count": 11,
     "metadata": {},
     "output_type": "execute_result"
    }
   ],
   "source": [
    "df = pd.read_csv('coinbase_btc_hourly.csv')\n",
    "df = df.rename(columns={'Volume BTC':'volume_btc',\n",
    "                  'Symbol':'symbol',\n",
    "                  'Open':'open',\n",
    "                  'High':'high',\n",
    "                  'Low':'low',\n",
    "                  'Close':'close',\n",
    "                  'Volume USD':'volume_usd',\n",
    "                  'Date':'date'})\n",
    "df.head(10)"
   ]
  },
  {
   "cell_type": "code",
   "execution_count": 24,
   "metadata": {},
   "outputs": [
    {
     "name": "stdout",
     "output_type": "stream",
     "text": [
      "<class 'pandas.core.frame.DataFrame'>\n",
      "RangeIndex: 27149 entries, 0 to 27148\n",
      "Data columns (total 8 columns):\n",
      "date          27149 non-null object\n",
      "symbol        27149 non-null object\n",
      "open          27149 non-null float64\n",
      "high          27149 non-null float64\n",
      "low           27149 non-null float64\n",
      "close         27149 non-null float64\n",
      "volume_btc    27149 non-null float64\n",
      "volume_usd    27149 non-null float64\n",
      "dtypes: float64(6), object(2)\n",
      "memory usage: 1.7+ MB\n"
     ]
    }
   ],
   "source": [
    "df.info()"
   ]
  },
  {
   "cell_type": "code",
   "execution_count": 29,
   "metadata": {},
   "outputs": [
    {
     "data": {
      "text/plain": [
       "27113"
      ]
     },
     "execution_count": 29,
     "metadata": {},
     "output_type": "execute_result"
    }
   ],
   "source": [
    "temp = df\n",
    "temp['comp'] = temp['volume_usd'] / temp['volume_btc']\n",
    "len(temp['comp'].unique())"
   ]
  },
  {
   "cell_type": "markdown",
   "metadata": {},
   "source": [
    "## features:\n",
    "- 6 scalars\n",
    "    - is there a need to encode the ratio of volume_usd to volume_btc?\n",
    "        - if we encode both in the SDR, probably not...\n",
    "    - 6 scalars is surprisingly not that hard to encode! have to be careful about min/max, however\n",
    "    - but it's easier than a graph, at least."
   ]
  },
  {
   "cell_type": "markdown",
   "metadata": {},
   "source": [
    "## borrowing some defaults from hotgym.py (htm.core edition)"
   ]
  },
  {
   "cell_type": "code",
   "execution_count": 3,
   "metadata": {},
   "outputs": [],
   "source": [
    "parameters = {\n",
    "  # there are 2 (3) encoders: \"value\" (RDSE) & \"time\" (DateTime weekend, timeOfDay)\n",
    " 'enc': {\n",
    "      \"value\" :\n",
    "         {'resolution': 0.88, 'size': 700, 'sparsity': 0.02},\n",
    "      \"time\": \n",
    "         {'timeOfDay': (30, 1), 'weekend': 21}\n",
    " },\n",
    " 'predictor': {'sdrc_alpha': 0.1},\n",
    " 'sp': {'boostStrength': 3.0,\n",
    "        'columnCount': 1638,\n",
    "        'localAreaDensity': 0.04395604395604396,\n",
    "        'potentialPct': 0.85,\n",
    "        'synPermActiveInc': 0.04,\n",
    "        'synPermConnected': 0.13999999999999999,\n",
    "        'synPermInactiveDec': 0.006},\n",
    " 'tm': {'activationThreshold': 17,\n",
    "        'cellsPerColumn': 13,\n",
    "        'initialPerm': 0.21,\n",
    "        'maxSegmentsPerCell': 128,\n",
    "        'maxSynapsesPerSegment': 64,\n",
    "        'minThreshold': 10,\n",
    "        'newSynapseCount': 32,\n",
    "        'permanenceDec': 0.1,\n",
    "        'permanenceInc': 0.1},\n",
    " 'anomaly': {\n",
    "   'likelihood': \n",
    "       {#'learningPeriod': int(math.floor(self.probationaryPeriod / 2.0)),\n",
    "        #'probationaryPeriod': self.probationaryPeriod-default_parameters[\"anomaly\"][\"likelihood\"][\"learningPeriod\"],\n",
    "        'probationaryPct': 0.1,\n",
    "        'reestimationPeriod': 100} #These settings are copied from NAB\n",
    " }\n",
    "}"
   ]
  },
  {
   "cell_type": "code",
   "execution_count": 33,
   "metadata": {},
   "outputs": [
    {
     "data": {
      "text/html": [
       "<div>\n",
       "<style scoped>\n",
       "    .dataframe tbody tr th:only-of-type {\n",
       "        vertical-align: middle;\n",
       "    }\n",
       "\n",
       "    .dataframe tbody tr th {\n",
       "        vertical-align: top;\n",
       "    }\n",
       "\n",
       "    .dataframe thead th {\n",
       "        text-align: right;\n",
       "    }\n",
       "</style>\n",
       "<table border=\"1\" class=\"dataframe\">\n",
       "  <thead>\n",
       "    <tr style=\"text-align: right;\">\n",
       "      <th></th>\n",
       "      <th>date</th>\n",
       "      <th>symbol</th>\n",
       "      <th>open</th>\n",
       "      <th>high</th>\n",
       "      <th>low</th>\n",
       "      <th>close</th>\n",
       "      <th>volume_btc</th>\n",
       "      <th>volume_usd</th>\n",
       "      <th>comp</th>\n",
       "    </tr>\n",
       "  </thead>\n",
       "  <tbody>\n",
       "    <tr>\n",
       "      <td>0</td>\n",
       "      <td>2020-08-05 03-PM</td>\n",
       "      <td>BTCUSD</td>\n",
       "      <td>11634.15</td>\n",
       "      <td>11692.50</td>\n",
       "      <td>11610.00</td>\n",
       "      <td>11692.43</td>\n",
       "      <td>512.77</td>\n",
       "      <td>5974153.85</td>\n",
       "      <td>11650.747606</td>\n",
       "    </tr>\n",
       "    <tr>\n",
       "      <td>1</td>\n",
       "      <td>2020-08-05 02-PM</td>\n",
       "      <td>BTCUSD</td>\n",
       "      <td>11630.00</td>\n",
       "      <td>11657.72</td>\n",
       "      <td>11510.41</td>\n",
       "      <td>11634.15</td>\n",
       "      <td>1150.49</td>\n",
       "      <td>13354344.69</td>\n",
       "      <td>11607.527827</td>\n",
       "    </tr>\n",
       "    <tr>\n",
       "      <td>2</td>\n",
       "      <td>2020-08-05 01-PM</td>\n",
       "      <td>BTCUSD</td>\n",
       "      <td>11576.28</td>\n",
       "      <td>11646.70</td>\n",
       "      <td>11556.47</td>\n",
       "      <td>11630.00</td>\n",
       "      <td>1345.00</td>\n",
       "      <td>15602104.09</td>\n",
       "      <td>11600.077390</td>\n",
       "    </tr>\n",
       "    <tr>\n",
       "      <td>3</td>\n",
       "      <td>2020-08-05 12-PM</td>\n",
       "      <td>BTCUSD</td>\n",
       "      <td>11444.92</td>\n",
       "      <td>11601.04</td>\n",
       "      <td>11400.00</td>\n",
       "      <td>11576.28</td>\n",
       "      <td>1888.34</td>\n",
       "      <td>21757593.94</td>\n",
       "      <td>11522.074383</td>\n",
       "    </tr>\n",
       "    <tr>\n",
       "      <td>4</td>\n",
       "      <td>2020-08-05 11-AM</td>\n",
       "      <td>BTCUSD</td>\n",
       "      <td>11400.64</td>\n",
       "      <td>11460.21</td>\n",
       "      <td>11392.38</td>\n",
       "      <td>11444.92</td>\n",
       "      <td>601.94</td>\n",
       "      <td>6875301.83</td>\n",
       "      <td>11421.905555</td>\n",
       "    </tr>\n",
       "  </tbody>\n",
       "</table>\n",
       "</div>"
      ],
      "text/plain": [
       "               date  symbol      open      high       low     close  \\\n",
       "0  2020-08-05 03-PM  BTCUSD  11634.15  11692.50  11610.00  11692.43   \n",
       "1  2020-08-05 02-PM  BTCUSD  11630.00  11657.72  11510.41  11634.15   \n",
       "2  2020-08-05 01-PM  BTCUSD  11576.28  11646.70  11556.47  11630.00   \n",
       "3  2020-08-05 12-PM  BTCUSD  11444.92  11601.04  11400.00  11576.28   \n",
       "4  2020-08-05 11-AM  BTCUSD  11400.64  11460.21  11392.38  11444.92   \n",
       "\n",
       "   volume_btc   volume_usd          comp  \n",
       "0      512.77   5974153.85  11650.747606  \n",
       "1     1150.49  13354344.69  11607.527827  \n",
       "2     1345.00  15602104.09  11600.077390  \n",
       "3     1888.34  21757593.94  11522.074383  \n",
       "4      601.94   6875301.83  11421.905555  "
      ]
     },
     "execution_count": 33,
     "metadata": {},
     "output_type": "execute_result"
    }
   ],
   "source": [
    "df.head()"
   ]
  },
  {
   "cell_type": "code",
   "execution_count": 12,
   "metadata": {},
   "outputs": [
    {
     "data": {
      "text/plain": [
       "'2020-08-05 03-PM'"
      ]
     },
     "execution_count": 12,
     "metadata": {},
     "output_type": "execute_result"
    }
   ],
   "source": [
    "a = df.iloc[0]['date']\n",
    "a"
   ]
  },
  {
   "cell_type": "code",
   "execution_count": 14,
   "metadata": {},
   "outputs": [
    {
     "data": {
      "text/plain": [
       "datetime.datetime(2020, 8, 5, 15, 0)"
      ]
     },
     "execution_count": 14,
     "metadata": {},
     "output_type": "execute_result"
    }
   ],
   "source": [
    "s = datetime.datetime.strptime(a, '%Y-%m-%d %I-%p') # test DateTime format\n",
    "s"
   ]
  },
  {
   "cell_type": "code",
   "execution_count": 15,
   "metadata": {},
   "outputs": [
    {
     "name": "stdout",
     "output_type": "stream",
     "text": [
      "<class 'pandas._libs.tslibs.timestamps.Timestamp'>\n"
     ]
    },
    {
     "data": {
      "text/html": [
       "<div>\n",
       "<style scoped>\n",
       "    .dataframe tbody tr th:only-of-type {\n",
       "        vertical-align: middle;\n",
       "    }\n",
       "\n",
       "    .dataframe tbody tr th {\n",
       "        vertical-align: top;\n",
       "    }\n",
       "\n",
       "    .dataframe thead th {\n",
       "        text-align: right;\n",
       "    }\n",
       "</style>\n",
       "<table border=\"1\" class=\"dataframe\">\n",
       "  <thead>\n",
       "    <tr style=\"text-align: right;\">\n",
       "      <th></th>\n",
       "      <th>date</th>\n",
       "      <th>symbol</th>\n",
       "      <th>open</th>\n",
       "      <th>high</th>\n",
       "      <th>low</th>\n",
       "      <th>close</th>\n",
       "      <th>volume_btc</th>\n",
       "      <th>volume_usd</th>\n",
       "    </tr>\n",
       "  </thead>\n",
       "  <tbody>\n",
       "    <tr>\n",
       "      <td>0</td>\n",
       "      <td>2020-08-05 15:00:00</td>\n",
       "      <td>BTCUSD</td>\n",
       "      <td>11634.15</td>\n",
       "      <td>11692.50</td>\n",
       "      <td>11610.00</td>\n",
       "      <td>11692.43</td>\n",
       "      <td>512.77</td>\n",
       "      <td>5974153.85</td>\n",
       "    </tr>\n",
       "    <tr>\n",
       "      <td>1</td>\n",
       "      <td>2020-08-05 14:00:00</td>\n",
       "      <td>BTCUSD</td>\n",
       "      <td>11630.00</td>\n",
       "      <td>11657.72</td>\n",
       "      <td>11510.41</td>\n",
       "      <td>11634.15</td>\n",
       "      <td>1150.49</td>\n",
       "      <td>13354344.69</td>\n",
       "    </tr>\n",
       "    <tr>\n",
       "      <td>2</td>\n",
       "      <td>2020-08-05 13:00:00</td>\n",
       "      <td>BTCUSD</td>\n",
       "      <td>11576.28</td>\n",
       "      <td>11646.70</td>\n",
       "      <td>11556.47</td>\n",
       "      <td>11630.00</td>\n",
       "      <td>1345.00</td>\n",
       "      <td>15602104.09</td>\n",
       "    </tr>\n",
       "    <tr>\n",
       "      <td>3</td>\n",
       "      <td>2020-08-05 12:00:00</td>\n",
       "      <td>BTCUSD</td>\n",
       "      <td>11444.92</td>\n",
       "      <td>11601.04</td>\n",
       "      <td>11400.00</td>\n",
       "      <td>11576.28</td>\n",
       "      <td>1888.34</td>\n",
       "      <td>21757593.94</td>\n",
       "    </tr>\n",
       "    <tr>\n",
       "      <td>4</td>\n",
       "      <td>2020-08-05 11:00:00</td>\n",
       "      <td>BTCUSD</td>\n",
       "      <td>11400.64</td>\n",
       "      <td>11460.21</td>\n",
       "      <td>11392.38</td>\n",
       "      <td>11444.92</td>\n",
       "      <td>601.94</td>\n",
       "      <td>6875301.83</td>\n",
       "    </tr>\n",
       "  </tbody>\n",
       "</table>\n",
       "</div>"
      ],
      "text/plain": [
       "                 date  symbol      open      high       low     close  \\\n",
       "0 2020-08-05 15:00:00  BTCUSD  11634.15  11692.50  11610.00  11692.43   \n",
       "1 2020-08-05 14:00:00  BTCUSD  11630.00  11657.72  11510.41  11634.15   \n",
       "2 2020-08-05 13:00:00  BTCUSD  11576.28  11646.70  11556.47  11630.00   \n",
       "3 2020-08-05 12:00:00  BTCUSD  11444.92  11601.04  11400.00  11576.28   \n",
       "4 2020-08-05 11:00:00  BTCUSD  11400.64  11460.21  11392.38  11444.92   \n",
       "\n",
       "   volume_btc   volume_usd  \n",
       "0      512.77   5974153.85  \n",
       "1     1150.49  13354344.69  \n",
       "2     1345.00  15602104.09  \n",
       "3     1888.34  21757593.94  \n",
       "4      601.94   6875301.83  "
      ]
     },
     "execution_count": 15,
     "metadata": {},
     "output_type": "execute_result"
    }
   ],
   "source": [
    "df['date'] = df['date'].apply(lambda x: \n",
    "                             datetime.datetime.strptime(x, '%Y-%m-%d %I-%p'))\n",
    "print(type(df.iloc[0]['date']))\n",
    "df.head()"
   ]
  },
  {
   "cell_type": "code",
   "execution_count": 16,
   "metadata": {},
   "outputs": [
    {
     "data": {
      "text/plain": [
       "Timestamp('2020-08-05 15:00:00')"
      ]
     },
     "execution_count": 16,
     "metadata": {},
     "output_type": "execute_result"
    }
   ],
   "source": [
    "a = df.iloc[0]['date']\n",
    "a"
   ]
  },
  {
   "cell_type": "markdown",
   "metadata": {},
   "source": [
    "## dateTime conversion:\n",
    "- running strptime() with pandas lambda changes it into a Timestamp object, even parsing with the same format\n",
    "- the dateTime encoder before used datetime.datetime(x,x,x,x,x) format. wonder if this pandas Timestamp will crash?\n",
    "- let's find out\n",
    "- blimey, it worked no worries\n",
    "    - perhaps Timestamp is just a specialized object inheriting from datetime"
   ]
  },
  {
   "cell_type": "code",
   "execution_count": 17,
   "metadata": {},
   "outputs": [],
   "source": [
    "dateEncoder = DateEncoder(\n",
    "    timeOfDay = parameters['enc']['time']['timeOfDay'], # (30,1)\n",
    "    weekend = parameters[\"enc\"][\"time\"][\"weekend\"]) # 21"
   ]
  },
  {
   "cell_type": "markdown",
   "metadata": {},
   "source": [
    "# encoders\n",
    "- we've got 6 scalars to encode...\n",
    "    - but htm.core hasn't implemented a MultiEncoder like Nupic has\n",
    "        - looking through nupic's github \"encoders\" directory, man they've got some cool encoders\n",
    "        - geospatial encoders! makes me want to sort out the whole python=2.7 thing...\n",
    "    - for now, we can just use the same scalarEncoder for each variable and have a bloody big concatenated SDR\n",
    "    - i'm sure tuning individual encoders would be much better, but let's start with this"
   ]
  },
  {
   "cell_type": "code",
   "execution_count": 45,
   "metadata": {},
   "outputs": [],
   "source": [
    "dateEncoder = DateEncoder(\n",
    "    timeOfDay = parameters['enc']['time']['timeOfDay'], # (30,1)\n",
    "    weekend = parameters[\"enc\"][\"time\"][\"weekend\"]) # 21\n",
    "\n",
    "scalarEncoderParams = RDSE_Parameters() # random distributed scalar encoder\n",
    "scalarEncoderParams.size       = parameters[\"enc\"][\"value\"][\"size\"] # 700\n",
    "scalarEncoderParams.sparsity   = parameters[\"enc\"][\"value\"][\"sparsity\"] # 0.02\n",
    "scalarEncoderParams.resolution = parameters[\"enc\"][\"value\"][\"resolution\"] # 0.88\n",
    "scalarEncoder = RDSE(scalarEncoderParams) # create the encoder\n",
    "\n",
    "encodingWidth = (dateEncoder.size + scalarEncoder.size*6) # since we're using the SEncoder 6 times\n",
    "enc_info = Metrics( [encodingWidth], 999999999) # performance metrics storage obj"
   ]
  },
  {
   "cell_type": "markdown",
   "metadata": {},
   "source": [
    "# spatial pooler + TM + anomaly setup"
   ]
  },
  {
   "cell_type": "code",
   "execution_count": 53,
   "metadata": {},
   "outputs": [],
   "source": [
    "spParams = parameters['sp']\n",
    "sp = SpatialPooler(\n",
    "    inputDimensions            = (encodingWidth,),\n",
    "    columnDimensions           = (spParams[\"columnCount\"],),\n",
    "    potentialPct               = spParams[\"potentialPct\"],\n",
    "    potentialRadius            = encodingWidth,\n",
    "    globalInhibition           = True,\n",
    "    localAreaDensity           = spParams[\"localAreaDensity\"],\n",
    "    synPermInactiveDec         = spParams[\"synPermInactiveDec\"],\n",
    "    synPermActiveInc           = spParams[\"synPermActiveInc\"],\n",
    "    synPermConnected           = spParams[\"synPermConnected\"],\n",
    "    boostStrength              = spParams[\"boostStrength\"],\n",
    "    wrapAround                 = True\n",
    ")\n",
    "sp_info = Metrics(sp.getColumnDimensions(), 999999999)\n",
    "\n",
    "tmParams = parameters['tm']\n",
    "tm = TemporalMemory(\n",
    "    columnDimensions          = (spParams[\"columnCount\"],),\n",
    "    cellsPerColumn            = tmParams[\"cellsPerColumn\"], # 13\n",
    "    activationThreshold       = tmParams[\"activationThreshold\"], # 17\n",
    "    initialPermanence         = tmParams[\"initialPerm\"], # 0.21\n",
    "    connectedPermanence       = spParams[\"synPermConnected\"],\n",
    "    minThreshold              = tmParams[\"minThreshold\"], # 19\n",
    "    maxNewSynapseCount        = tmParams[\"newSynapseCount\"], # 32\n",
    "    permanenceIncrement       = tmParams[\"permanenceInc\"], # 0.1\n",
    "    permanenceDecrement       = tmParams[\"permanenceDec\"], # 0.1\n",
    "    predictedSegmentDecrement = 0.0,\n",
    "    maxSegmentsPerCell        = tmParams[\"maxSegmentsPerCell\"], # 128\n",
    "    maxSynapsesPerSegment     = tmParams[\"maxSynapsesPerSegment\"] # 64\n",
    ")\n",
    "tm_info = Metrics( [tm.numberOfCells()], 999999999)\n",
    "\n",
    "\n",
    "# anomaly prediction\n",
    "anParams = parameters['anomaly']['likelihood']\n",
    "probationaryPeriod = int(math.floor(float(anParams['probationaryPct'])*len(df)))\n",
    "learningPeriod = int(math.floor(probationaryPeriod / 2.0))\n",
    "anomaly_history = AnomalyLikelihood(learningPeriod = learningPeriod,\n",
    "       estimationSamples = probationaryPeriod - learningPeriod,\n",
    "       reestimationPeriod = anParams['reestimationPeriod'])\n",
    "predictor = Predictor(steps=[1,5], alpha=parameters['predictor']['sdrc_alpha'])\n",
    "predictor_resolution = 1 # divisor"
   ]
  },
  {
   "cell_type": "code",
   "execution_count": null,
   "metadata": {},
   "outputs": [],
   "source": []
  },
  {
   "cell_type": "code",
   "execution_count": null,
   "metadata": {},
   "outputs": [],
   "source": []
  },
  {
   "cell_type": "code",
   "execution_count": 58,
   "metadata": {},
   "outputs": [],
   "source": [
    "# pre-training, no-infer loop:\n",
    "\n",
    "for i, row in df.iterrows():\n",
    "    btc_price = row['close'] # desired output to predict\n",
    "    \n",
    "    date = dateEncoder.encode(row['date'])\n",
    "    \n",
    "    open_price = scalarEncoder.encode(row['open'])\n",
    "    high = scalarEncoder.encode(row['high'])\n",
    "    low = scalarEncoder.encode(row['low'])\n",
    "    close_price = scalarEncoder.encode(row['close'])\n",
    "    volume_btc = scalarEncoder.encode(row['volume_btc'])\n",
    "    volume_usd = scalarEncoder.encode(row['volume_usd'])\n",
    "\n",
    "    encodingWidth = date.size+open_price.size+high.size+low.size+close_price.size+volume_btc.size+volume_usd.size\n",
    "    encoding = SDR(encodingWidth).concatenate([date, open_price, high, low, close_price,\n",
    "                                              volume_btc, volume_usd])\n",
    "    enc_info.addData(encoding)\n",
    "    # encoding worked. not bad\n",
    "    \n",
    "    # spatial pool !\n",
    "    activeColumns = SDR(sp.getColumnDimensions()) # for clarity\n",
    "    sp.compute(encoding, True, activeColumns)\n",
    "    \n",
    "    # temporal memory\n",
    "    tm_info.addData(tm.getActiveCells().flatten())\n",
    "    tm.compute(activeColumns, learn=True)\n",
    "    predictor.learn(i, tm.getActiveCells(), int(btc_price/predictor_resolution))\n"
   ]
  },
  {
   "cell_type": "markdown",
   "metadata": {},
   "source": [
    "well, it's running, so that's good. i'm encoding a ~4900 SDR instead of a ~1200, so it'll be a much longer runtime.\n",
    "\n",
    "took like... 6 minutes. pretty good."
   ]
  },
  {
   "cell_type": "code",
   "execution_count": 62,
   "metadata": {},
   "outputs": [],
   "source": [
    "# so the training loop is going to look something like:\n",
    "inputs = []\n",
    "anomaly = []\n",
    "anomalyProb = []\n",
    "predictions = {1: [], 5:[]}\n",
    "leng = len(df)\n",
    "for i, row in df.iterrows():\n",
    "    btc_price = row['close'] # desired output to predict\n",
    "    \n",
    "    date = dateEncoder.encode(row['date'])\n",
    "    \n",
    "    open_price = scalarEncoder.encode(row['open'])\n",
    "    high = scalarEncoder.encode(row['high'])\n",
    "    low = scalarEncoder.encode(row['low'])\n",
    "    close_price = scalarEncoder.encode(row['close'])\n",
    "    volume_btc = scalarEncoder.encode(row['volume_btc'])\n",
    "    volume_usd = scalarEncoder.encode(row['volume_usd'])\n",
    "\n",
    "    encodingWidth = date.size+open_price.size+high.size+low.size+close_price.size+volume_btc.size+volume_usd.size\n",
    "    encoding = SDR(encodingWidth).concatenate([date, open_price, high, low, close_price,\n",
    "                                              volume_btc, volume_usd])\n",
    "    enc_info.addData(encoding)\n",
    "    # encoding worked. not bad\n",
    "    \n",
    "    # spatial pool !\n",
    "    activeColumns = SDR(sp.getColumnDimensions()) # for clarity\n",
    "    sp.compute(encoding, True, activeColumns)\n",
    "    \n",
    "    # temporal memory\n",
    "    tm_info.addData(tm.getActiveCells().flatten())\n",
    "    tm.compute(activeColumns, learn=True)\n",
    "    \n",
    "    # make predictions with 1 and 5 steps\n",
    "    pdf = predictor.infer( tm.getActiveCells() )\n",
    "    for n in (1,5):\n",
    "        if pdf[n]:\n",
    "            predictions[n].append(np.argmax(pdf[n])*predictor_resolution) # *1, basically\n",
    "        else:\n",
    "            predictions[n].append(float('nan'))\n",
    "    # anom\n",
    "    anomalyLikelihood = anomaly_history.anomalyProbability(btc_price, tm.anomaly)\n",
    "    anomaly.append(tm.anomaly)\n",
    "    anomalyProb.append(anomalyLikelihood)\n",
    "    # teach the predictor\n",
    "    predictor.learn(i+leng, tm.getActiveCells(), int(btc_price/predictor_resolution))\n",
    "    # for a pre-infer extra training loop with N SDRs,\n",
    "    # change predictor.learn(index) to index + N or it'll get mad at you\n",
    "# end loop\n",
    "\n",
    "    \n",
    "    \n",
    "    \n",
    "    "
   ]
  },
  {
   "cell_type": "code",
   "execution_count": null,
   "metadata": {},
   "outputs": [],
   "source": [
    "for count, record in enumerate(records): # iterate through listified CSV\n",
    "    dateString = datetime.datetime.strptime(record[0], '%m/%d/%y %H:%M')\n",
    "    consumption = float(record[1])\n",
    "    inputs.append(consumption)\n",
    "    # encoders at work\n",
    "    dateBits = dateEncoder.encode(dateString)\n",
    "    consumptionBits = scalarEncoder.encode(consumption)\n",
    "    # concatenate these bad boys for a composite x,y input\n",
    "    encoding = SDR(encodingWidth).concatenate([consumptionBits, dateBits])\n",
    "    enc_info.addData(encoding) # keep track in metrics\n",
    "    # create an SDR for active columns, same dimensions as SP\n",
    "    activeColumns = SDR(sp.getColumnDimensions())\n",
    "    # hurl input into the pool\n",
    "    sp.compute(encoding, True, activeColumns)\n",
    "    tm_info.addData(tm.getActiveCells().flatten())\n",
    "    # dunno why we add the TM active state before tm.compute(), but i don't know most things\n",
    "    tm.compute(activeColumns, learn=True)\n",
    "    # let's change things up and try to just let the predictor learn before making any predictions\n",
    "    predictor.learn(count, tm.getActiveCells(), int(round(consumption/predictor_resolution)))\n",
    "    "
   ]
  },
  {
   "cell_type": "code",
   "execution_count": null,
   "metadata": {},
   "outputs": [],
   "source": []
  },
  {
   "cell_type": "code",
   "execution_count": 10,
   "metadata": {},
   "outputs": [],
   "source": [
    "# out # this format is fine, it's what the DateTime encoder uses anyway"
   ]
  },
  {
   "cell_type": "code",
   "execution_count": 41,
   "metadata": {},
   "outputs": [
    {
     "name": "stdout",
     "output_type": "stream",
     "text": [
      "2009-11-29 03:17 PM\n",
      "<class 'datetime.datetime'>\n"
     ]
    }
   ],
   "source": []
  },
  {
   "cell_type": "code",
   "execution_count": null,
   "metadata": {},
   "outputs": [],
   "source": [
    "dateString = datetime.datetime.strptime(record[0], \"%m/%d/%y %H:%M\")"
   ]
  },
  {
   "cell_type": "code",
   "execution_count": null,
   "metadata": {},
   "outputs": [],
   "source": []
  },
  {
   "cell_type": "code",
   "execution_count": 37,
   "metadata": {},
   "outputs": [
    {
     "name": "stdout",
     "output_type": "stream",
     "text": [
      "<class 'str'>\n"
     ]
    },
    {
     "ename": "ValueError",
     "evalue": "('Unknown string format:', '2020-08-05 03-PM')",
     "output_type": "error",
     "traceback": [
      "\u001b[0;31m---------------------------------------------------------------------------\u001b[0m",
      "\u001b[0;31mTypeError\u001b[0m                                 Traceback (most recent call last)",
      "\u001b[0;32m~/opt/anaconda3/lib/python3.7/site-packages/pandas/core/arrays/datetimes.py\u001b[0m in \u001b[0;36mobjects_to_datetime64ns\u001b[0;34m(data, dayfirst, yearfirst, utc, errors, require_iso8601, allow_object)\u001b[0m\n\u001b[1;32m   1978\u001b[0m         \u001b[0;32mtry\u001b[0m\u001b[0;34m:\u001b[0m\u001b[0;34m\u001b[0m\u001b[0;34m\u001b[0m\u001b[0m\n\u001b[0;32m-> 1979\u001b[0;31m             \u001b[0mvalues\u001b[0m\u001b[0;34m,\u001b[0m \u001b[0mtz_parsed\u001b[0m \u001b[0;34m=\u001b[0m \u001b[0mconversion\u001b[0m\u001b[0;34m.\u001b[0m\u001b[0mdatetime_to_datetime64\u001b[0m\u001b[0;34m(\u001b[0m\u001b[0mdata\u001b[0m\u001b[0;34m)\u001b[0m\u001b[0;34m\u001b[0m\u001b[0;34m\u001b[0m\u001b[0m\n\u001b[0m\u001b[1;32m   1980\u001b[0m             \u001b[0;31m# If tzaware, these values represent unix timestamps, so we\u001b[0m\u001b[0;34m\u001b[0m\u001b[0;34m\u001b[0m\u001b[0;34m\u001b[0m\u001b[0m\n",
      "\u001b[0;32mpandas/_libs/tslibs/conversion.pyx\u001b[0m in \u001b[0;36mpandas._libs.tslibs.conversion.datetime_to_datetime64\u001b[0;34m()\u001b[0m\n",
      "\u001b[0;31mTypeError\u001b[0m: Unrecognized value type: <class 'str'>",
      "\nDuring handling of the above exception, another exception occurred:\n",
      "\u001b[0;31mValueError\u001b[0m                                Traceback (most recent call last)",
      "\u001b[0;32m<ipython-input-37-85a56e47aad6>\u001b[0m in \u001b[0;36m<module>\u001b[0;34m\u001b[0m\n\u001b[1;32m      1\u001b[0m \u001b[0mprint\u001b[0m\u001b[0;34m(\u001b[0m\u001b[0mtype\u001b[0m\u001b[0;34m(\u001b[0m\u001b[0mdf\u001b[0m\u001b[0;34m.\u001b[0m\u001b[0miloc\u001b[0m\u001b[0;34m[\u001b[0m\u001b[0;36m1\u001b[0m\u001b[0;34m]\u001b[0m\u001b[0;34m[\u001b[0m\u001b[0;34m'date'\u001b[0m\u001b[0;34m]\u001b[0m\u001b[0;34m)\u001b[0m\u001b[0;34m)\u001b[0m\u001b[0;34m\u001b[0m\u001b[0;34m\u001b[0m\u001b[0m\n\u001b[0;32m----> 2\u001b[0;31m \u001b[0mpd\u001b[0m\u001b[0;34m.\u001b[0m\u001b[0mto_datetime\u001b[0m\u001b[0;34m(\u001b[0m\u001b[0mdf\u001b[0m\u001b[0;34m[\u001b[0m\u001b[0;34m'date'\u001b[0m\u001b[0;34m]\u001b[0m\u001b[0;34m)\u001b[0m\u001b[0;34m\u001b[0m\u001b[0;34m\u001b[0m\u001b[0m\n\u001b[0m\u001b[1;32m      3\u001b[0m \u001b[0mprint\u001b[0m\u001b[0;34m(\u001b[0m\u001b[0mtype\u001b[0m\u001b[0;34m(\u001b[0m\u001b[0mdf\u001b[0m\u001b[0;34m.\u001b[0m\u001b[0miloc\u001b[0m\u001b[0;34m[\u001b[0m\u001b[0;36m1\u001b[0m\u001b[0;34m]\u001b[0m\u001b[0;34m[\u001b[0m\u001b[0;34m'date'\u001b[0m\u001b[0;34m]\u001b[0m\u001b[0;34m)\u001b[0m\u001b[0;34m)\u001b[0m\u001b[0;34m\u001b[0m\u001b[0;34m\u001b[0m\u001b[0m\n",
      "\u001b[0;32m~/opt/anaconda3/lib/python3.7/site-packages/pandas/util/_decorators.py\u001b[0m in \u001b[0;36mwrapper\u001b[0;34m(*args, **kwargs)\u001b[0m\n\u001b[1;32m    206\u001b[0m                 \u001b[0;32melse\u001b[0m\u001b[0;34m:\u001b[0m\u001b[0;34m\u001b[0m\u001b[0;34m\u001b[0m\u001b[0m\n\u001b[1;32m    207\u001b[0m                     \u001b[0mkwargs\u001b[0m\u001b[0;34m[\u001b[0m\u001b[0mnew_arg_name\u001b[0m\u001b[0;34m]\u001b[0m \u001b[0;34m=\u001b[0m \u001b[0mnew_arg_value\u001b[0m\u001b[0;34m\u001b[0m\u001b[0;34m\u001b[0m\u001b[0m\n\u001b[0;32m--> 208\u001b[0;31m             \u001b[0;32mreturn\u001b[0m \u001b[0mfunc\u001b[0m\u001b[0;34m(\u001b[0m\u001b[0;34m*\u001b[0m\u001b[0margs\u001b[0m\u001b[0;34m,\u001b[0m \u001b[0;34m**\u001b[0m\u001b[0mkwargs\u001b[0m\u001b[0;34m)\u001b[0m\u001b[0;34m\u001b[0m\u001b[0;34m\u001b[0m\u001b[0m\n\u001b[0m\u001b[1;32m    209\u001b[0m \u001b[0;34m\u001b[0m\u001b[0m\n\u001b[1;32m    210\u001b[0m         \u001b[0;32mreturn\u001b[0m \u001b[0mwrapper\u001b[0m\u001b[0;34m\u001b[0m\u001b[0;34m\u001b[0m\u001b[0m\n",
      "\u001b[0;32m~/opt/anaconda3/lib/python3.7/site-packages/pandas/core/tools/datetimes.py\u001b[0m in \u001b[0;36mto_datetime\u001b[0;34m(arg, errors, dayfirst, yearfirst, utc, box, format, exact, unit, infer_datetime_format, origin, cache)\u001b[0m\n\u001b[1;32m    776\u001b[0m             \u001b[0mresult\u001b[0m \u001b[0;34m=\u001b[0m \u001b[0marg\u001b[0m\u001b[0;34m.\u001b[0m\u001b[0mmap\u001b[0m\u001b[0;34m(\u001b[0m\u001b[0mcache_array\u001b[0m\u001b[0;34m)\u001b[0m\u001b[0;34m\u001b[0m\u001b[0;34m\u001b[0m\u001b[0m\n\u001b[1;32m    777\u001b[0m         \u001b[0;32melse\u001b[0m\u001b[0;34m:\u001b[0m\u001b[0;34m\u001b[0m\u001b[0;34m\u001b[0m\u001b[0m\n\u001b[0;32m--> 778\u001b[0;31m             \u001b[0mvalues\u001b[0m \u001b[0;34m=\u001b[0m \u001b[0mconvert_listlike\u001b[0m\u001b[0;34m(\u001b[0m\u001b[0marg\u001b[0m\u001b[0;34m.\u001b[0m\u001b[0m_values\u001b[0m\u001b[0;34m,\u001b[0m \u001b[0;32mTrue\u001b[0m\u001b[0;34m,\u001b[0m \u001b[0mformat\u001b[0m\u001b[0;34m)\u001b[0m\u001b[0;34m\u001b[0m\u001b[0;34m\u001b[0m\u001b[0m\n\u001b[0m\u001b[1;32m    779\u001b[0m             \u001b[0mresult\u001b[0m \u001b[0;34m=\u001b[0m \u001b[0marg\u001b[0m\u001b[0;34m.\u001b[0m\u001b[0m_constructor\u001b[0m\u001b[0;34m(\u001b[0m\u001b[0mvalues\u001b[0m\u001b[0;34m,\u001b[0m \u001b[0mindex\u001b[0m\u001b[0;34m=\u001b[0m\u001b[0marg\u001b[0m\u001b[0;34m.\u001b[0m\u001b[0mindex\u001b[0m\u001b[0;34m,\u001b[0m \u001b[0mname\u001b[0m\u001b[0;34m=\u001b[0m\u001b[0marg\u001b[0m\u001b[0;34m.\u001b[0m\u001b[0mname\u001b[0m\u001b[0;34m)\u001b[0m\u001b[0;34m\u001b[0m\u001b[0;34m\u001b[0m\u001b[0m\n\u001b[1;32m    780\u001b[0m     \u001b[0;32melif\u001b[0m \u001b[0misinstance\u001b[0m\u001b[0;34m(\u001b[0m\u001b[0marg\u001b[0m\u001b[0;34m,\u001b[0m \u001b[0;34m(\u001b[0m\u001b[0mABCDataFrame\u001b[0m\u001b[0;34m,\u001b[0m \u001b[0mabc\u001b[0m\u001b[0;34m.\u001b[0m\u001b[0mMutableMapping\u001b[0m\u001b[0;34m)\u001b[0m\u001b[0;34m)\u001b[0m\u001b[0;34m:\u001b[0m\u001b[0;34m\u001b[0m\u001b[0;34m\u001b[0m\u001b[0m\n",
      "\u001b[0;32m~/opt/anaconda3/lib/python3.7/site-packages/pandas/core/tools/datetimes.py\u001b[0m in \u001b[0;36m_convert_listlike_datetimes\u001b[0;34m(arg, box, format, name, tz, unit, errors, infer_datetime_format, dayfirst, yearfirst, exact)\u001b[0m\n\u001b[1;32m    461\u001b[0m             \u001b[0merrors\u001b[0m\u001b[0;34m=\u001b[0m\u001b[0merrors\u001b[0m\u001b[0;34m,\u001b[0m\u001b[0;34m\u001b[0m\u001b[0;34m\u001b[0m\u001b[0m\n\u001b[1;32m    462\u001b[0m             \u001b[0mrequire_iso8601\u001b[0m\u001b[0;34m=\u001b[0m\u001b[0mrequire_iso8601\u001b[0m\u001b[0;34m,\u001b[0m\u001b[0;34m\u001b[0m\u001b[0;34m\u001b[0m\u001b[0m\n\u001b[0;32m--> 463\u001b[0;31m             \u001b[0mallow_object\u001b[0m\u001b[0;34m=\u001b[0m\u001b[0;32mTrue\u001b[0m\u001b[0;34m,\u001b[0m\u001b[0;34m\u001b[0m\u001b[0;34m\u001b[0m\u001b[0m\n\u001b[0m\u001b[1;32m    464\u001b[0m         )\n\u001b[1;32m    465\u001b[0m \u001b[0;34m\u001b[0m\u001b[0m\n",
      "\u001b[0;32m~/opt/anaconda3/lib/python3.7/site-packages/pandas/core/arrays/datetimes.py\u001b[0m in \u001b[0;36mobjects_to_datetime64ns\u001b[0;34m(data, dayfirst, yearfirst, utc, errors, require_iso8601, allow_object)\u001b[0m\n\u001b[1;32m   1982\u001b[0m             \u001b[0;32mreturn\u001b[0m \u001b[0mvalues\u001b[0m\u001b[0;34m.\u001b[0m\u001b[0mview\u001b[0m\u001b[0;34m(\u001b[0m\u001b[0;34m\"i8\"\u001b[0m\u001b[0;34m)\u001b[0m\u001b[0;34m,\u001b[0m \u001b[0mtz_parsed\u001b[0m\u001b[0;34m\u001b[0m\u001b[0;34m\u001b[0m\u001b[0m\n\u001b[1;32m   1983\u001b[0m         \u001b[0;32mexcept\u001b[0m \u001b[0;34m(\u001b[0m\u001b[0mValueError\u001b[0m\u001b[0;34m,\u001b[0m \u001b[0mTypeError\u001b[0m\u001b[0;34m)\u001b[0m\u001b[0;34m:\u001b[0m\u001b[0;34m\u001b[0m\u001b[0;34m\u001b[0m\u001b[0m\n\u001b[0;32m-> 1984\u001b[0;31m             \u001b[0;32mraise\u001b[0m \u001b[0me\u001b[0m\u001b[0;34m\u001b[0m\u001b[0;34m\u001b[0m\u001b[0m\n\u001b[0m\u001b[1;32m   1985\u001b[0m \u001b[0;34m\u001b[0m\u001b[0m\n\u001b[1;32m   1986\u001b[0m     \u001b[0;32mif\u001b[0m \u001b[0mtz_parsed\u001b[0m \u001b[0;32mis\u001b[0m \u001b[0;32mnot\u001b[0m \u001b[0;32mNone\u001b[0m\u001b[0;34m:\u001b[0m\u001b[0;34m\u001b[0m\u001b[0;34m\u001b[0m\u001b[0m\n",
      "\u001b[0;32m~/opt/anaconda3/lib/python3.7/site-packages/pandas/core/arrays/datetimes.py\u001b[0m in \u001b[0;36mobjects_to_datetime64ns\u001b[0;34m(data, dayfirst, yearfirst, utc, errors, require_iso8601, allow_object)\u001b[0m\n\u001b[1;32m   1973\u001b[0m             \u001b[0mdayfirst\u001b[0m\u001b[0;34m=\u001b[0m\u001b[0mdayfirst\u001b[0m\u001b[0;34m,\u001b[0m\u001b[0;34m\u001b[0m\u001b[0;34m\u001b[0m\u001b[0m\n\u001b[1;32m   1974\u001b[0m             \u001b[0myearfirst\u001b[0m\u001b[0;34m=\u001b[0m\u001b[0myearfirst\u001b[0m\u001b[0;34m,\u001b[0m\u001b[0;34m\u001b[0m\u001b[0;34m\u001b[0m\u001b[0m\n\u001b[0;32m-> 1975\u001b[0;31m             \u001b[0mrequire_iso8601\u001b[0m\u001b[0;34m=\u001b[0m\u001b[0mrequire_iso8601\u001b[0m\u001b[0;34m,\u001b[0m\u001b[0;34m\u001b[0m\u001b[0;34m\u001b[0m\u001b[0m\n\u001b[0m\u001b[1;32m   1976\u001b[0m         )\n\u001b[1;32m   1977\u001b[0m     \u001b[0;32mexcept\u001b[0m \u001b[0mValueError\u001b[0m \u001b[0;32mas\u001b[0m \u001b[0me\u001b[0m\u001b[0;34m:\u001b[0m\u001b[0;34m\u001b[0m\u001b[0;34m\u001b[0m\u001b[0m\n",
      "\u001b[0;32mpandas/_libs/tslib.pyx\u001b[0m in \u001b[0;36mpandas._libs.tslib.array_to_datetime\u001b[0;34m()\u001b[0m\n",
      "\u001b[0;32mpandas/_libs/tslib.pyx\u001b[0m in \u001b[0;36mpandas._libs.tslib.array_to_datetime\u001b[0;34m()\u001b[0m\n",
      "\u001b[0;32mpandas/_libs/tslib.pyx\u001b[0m in \u001b[0;36mpandas._libs.tslib.array_to_datetime_object\u001b[0;34m()\u001b[0m\n",
      "\u001b[0;32mpandas/_libs/tslib.pyx\u001b[0m in \u001b[0;36mpandas._libs.tslib.array_to_datetime_object\u001b[0;34m()\u001b[0m\n",
      "\u001b[0;32mpandas/_libs/tslibs/parsing.pyx\u001b[0m in \u001b[0;36mpandas._libs.tslibs.parsing.parse_datetime_string\u001b[0;34m()\u001b[0m\n",
      "\u001b[0;32m~/opt/anaconda3/lib/python3.7/site-packages/dateutil/parser/_parser.py\u001b[0m in \u001b[0;36mparse\u001b[0;34m(timestr, parserinfo, **kwargs)\u001b[0m\n\u001b[1;32m   1356\u001b[0m         \u001b[0;32mreturn\u001b[0m \u001b[0mparser\u001b[0m\u001b[0;34m(\u001b[0m\u001b[0mparserinfo\u001b[0m\u001b[0;34m)\u001b[0m\u001b[0;34m.\u001b[0m\u001b[0mparse\u001b[0m\u001b[0;34m(\u001b[0m\u001b[0mtimestr\u001b[0m\u001b[0;34m,\u001b[0m \u001b[0;34m**\u001b[0m\u001b[0mkwargs\u001b[0m\u001b[0;34m)\u001b[0m\u001b[0;34m\u001b[0m\u001b[0;34m\u001b[0m\u001b[0m\n\u001b[1;32m   1357\u001b[0m     \u001b[0;32melse\u001b[0m\u001b[0;34m:\u001b[0m\u001b[0;34m\u001b[0m\u001b[0;34m\u001b[0m\u001b[0m\n\u001b[0;32m-> 1358\u001b[0;31m         \u001b[0;32mreturn\u001b[0m \u001b[0mDEFAULTPARSER\u001b[0m\u001b[0;34m.\u001b[0m\u001b[0mparse\u001b[0m\u001b[0;34m(\u001b[0m\u001b[0mtimestr\u001b[0m\u001b[0;34m,\u001b[0m \u001b[0;34m**\u001b[0m\u001b[0mkwargs\u001b[0m\u001b[0;34m)\u001b[0m\u001b[0;34m\u001b[0m\u001b[0;34m\u001b[0m\u001b[0m\n\u001b[0m\u001b[1;32m   1359\u001b[0m \u001b[0;34m\u001b[0m\u001b[0m\n\u001b[1;32m   1360\u001b[0m \u001b[0;34m\u001b[0m\u001b[0m\n",
      "\u001b[0;32m~/opt/anaconda3/lib/python3.7/site-packages/dateutil/parser/_parser.py\u001b[0m in \u001b[0;36mparse\u001b[0;34m(self, timestr, default, ignoretz, tzinfos, **kwargs)\u001b[0m\n\u001b[1;32m    647\u001b[0m \u001b[0;34m\u001b[0m\u001b[0m\n\u001b[1;32m    648\u001b[0m         \u001b[0;32mif\u001b[0m \u001b[0mres\u001b[0m \u001b[0;32mis\u001b[0m \u001b[0;32mNone\u001b[0m\u001b[0;34m:\u001b[0m\u001b[0;34m\u001b[0m\u001b[0;34m\u001b[0m\u001b[0m\n\u001b[0;32m--> 649\u001b[0;31m             \u001b[0;32mraise\u001b[0m \u001b[0mValueError\u001b[0m\u001b[0;34m(\u001b[0m\u001b[0;34m\"Unknown string format:\"\u001b[0m\u001b[0;34m,\u001b[0m \u001b[0mtimestr\u001b[0m\u001b[0;34m)\u001b[0m\u001b[0;34m\u001b[0m\u001b[0;34m\u001b[0m\u001b[0m\n\u001b[0m\u001b[1;32m    650\u001b[0m \u001b[0;34m\u001b[0m\u001b[0m\n\u001b[1;32m    651\u001b[0m         \u001b[0;32mif\u001b[0m \u001b[0mlen\u001b[0m\u001b[0;34m(\u001b[0m\u001b[0mres\u001b[0m\u001b[0;34m)\u001b[0m \u001b[0;34m==\u001b[0m \u001b[0;36m0\u001b[0m\u001b[0;34m:\u001b[0m\u001b[0;34m\u001b[0m\u001b[0;34m\u001b[0m\u001b[0m\n",
      "\u001b[0;31mValueError\u001b[0m: ('Unknown string format:', '2020-08-05 03-PM')"
     ]
    }
   ],
   "source": [
    "print(type(df.iloc[1]['date']))\n",
    "# pd.to_datetime(df['date'])\n",
    "# print(type(df.iloc[1]['date']))\n",
    "\n",
    "# ah, what an unpleasant format\n",
    "# 7/2/10 16:00 is a good exampel"
   ]
  },
  {
   "cell_type": "markdown",
   "metadata": {},
   "source": [
    "# encoder\n",
    "- might want to look into _nupic.encoders.adaptive_scalar.AdaptiveScalarEncoder_"
   ]
  },
  {
   "cell_type": "code",
   "execution_count": null,
   "metadata": {},
   "outputs": [],
   "source": []
  },
  {
   "cell_type": "code",
   "execution_count": null,
   "metadata": {},
   "outputs": [],
   "source": [
    "dateEncoder = DateEncoder(\n",
    "    timeOfDay = parameters['enc']['time']['timeOfDay'], # (30,1)\n",
    "    weekend = parameters[\"enc\"][\"time\"][\"weekend\"]) # 21"
   ]
  },
  {
   "cell_type": "code",
   "execution_count": 32,
   "metadata": {
    "scrolled": true
   },
   "outputs": [
    {
     "name": "stdout",
     "output_type": "stream",
     "text": [
      "0\n",
      "1\n",
      "4\n",
      "9\n",
      "16\n",
      "25\n",
      "36\n",
      "49\n",
      "64\n",
      "81\n",
      "100\n",
      "121\n",
      "144\n",
      "169\n",
      "196\n",
      "225\n",
      "256\n",
      "289\n",
      "324\n",
      "361\n",
      "400\n",
      "441\n",
      "484\n",
      "529\n",
      "576\n",
      "625\n",
      "676\n",
      "729\n",
      "784\n",
      "841\n",
      "900\n",
      "961\n",
      "1024\n",
      "1089\n",
      "1156\n",
      "1225\n",
      "1296\n",
      "1369\n",
      "1444\n",
      "1521\n",
      "1600\n",
      "1681\n",
      "1764\n",
      "1849\n",
      "1936\n",
      "2025\n",
      "2116\n",
      "2209\n",
      "2304\n",
      "2401\n",
      "2500\n",
      "2601\n",
      "2704\n",
      "2809\n",
      "2916\n",
      "3025\n",
      "3136\n",
      "3249\n",
      "3364\n",
      "3481\n",
      "3600\n",
      "3721\n",
      "3844\n",
      "3969\n",
      "4096\n",
      "4225\n",
      "4356\n",
      "4489\n",
      "4624\n",
      "4761\n",
      "4900\n",
      "5041\n",
      "5184\n",
      "5329\n",
      "5476\n",
      "5625\n",
      "5776\n",
      "5929\n",
      "6084\n",
      "6241\n",
      "6400\n",
      "6561\n",
      "6724\n",
      "6889\n",
      "7056\n",
      "7225\n",
      "7396\n",
      "7569\n",
      "7744\n",
      "7921\n",
      "8100\n",
      "8281\n",
      "8464\n",
      "8649\n",
      "8836\n",
      "9025\n",
      "9216\n",
      "9409\n",
      "9604\n",
      "9801\n"
     ]
    }
   ],
   "source": [
    "for i in range(100):\n",
    "    print(i**2)"
   ]
  },
  {
   "cell_type": "code",
   "execution_count": null,
   "metadata": {},
   "outputs": [],
   "source": []
  },
  {
   "cell_type": "code",
   "execution_count": null,
   "metadata": {},
   "outputs": [],
   "source": []
  },
  {
   "cell_type": "code",
   "execution_count": null,
   "metadata": {},
   "outputs": [],
   "source": []
  },
  {
   "cell_type": "code",
   "execution_count": null,
   "metadata": {},
   "outputs": [],
   "source": []
  },
  {
   "cell_type": "code",
   "execution_count": null,
   "metadata": {},
   "outputs": [],
   "source": []
  }
 ],
 "metadata": {
  "kernelspec": {
   "display_name": "Python 3",
   "language": "python",
   "name": "python3"
  },
  "language_info": {
   "codemirror_mode": {
    "name": "ipython",
    "version": 3
   },
   "file_extension": ".py",
   "mimetype": "text/x-python",
   "name": "python",
   "nbconvert_exporter": "python",
   "pygments_lexer": "ipython3",
   "version": "3.7.4"
  },
  "toc": {
   "base_numbering": 1,
   "nav_menu": {},
   "number_sections": true,
   "sideBar": false,
   "skip_h1_title": false,
   "title_cell": "Table of Contents",
   "title_sidebar": "Contents",
   "toc_cell": true,
   "toc_position": {
    "height": "47.429px",
    "left": "877.2px",
    "top": "51.6051px",
    "width": "160.98px"
   },
   "toc_section_display": false,
   "toc_window_display": true
  }
 },
 "nbformat": 4,
 "nbformat_minor": 2
}
